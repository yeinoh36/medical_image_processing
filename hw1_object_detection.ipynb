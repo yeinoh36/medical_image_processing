{
  "nbformat": 4,
  "nbformat_minor": 0,
  "metadata": {
    "colab": {
      "provenance": []
    },
    "kernelspec": {
      "name": "python3",
      "display_name": "Python 3"
    },
    "language_info": {
      "name": "python"
    }
  },
  "cells": [
    {
      "cell_type": "markdown",
      "source": [
        "의학영상처리 midterm 대체과제\n",
        "2070044 오예인"
      ],
      "metadata": {
        "id": "LIBFvhu5JnoU"
      }
    },
    {
      "cell_type": "markdown",
      "source": [
        "#Object detection (10점)\n",
        "1. Yolo mark 혹은 robotflow 이용해서 왼손 오른손 레이블링 진행\n",
        "2. yolo v5 혹은 다른 object detection 모델을 이용해서 학습 및 검증 및 테스트 진행\n",
        "3. 평가지표 mAP 사용 train data 2개, validation 1개, test 1개, learning rate 0.003\n",
        "4. 학습된 모델에 테스트 데이터 값을 넣어서 모델의 출력 값 및 테스트 데이터를 입력하여 mAP 값을 출력"
      ],
      "metadata": {
        "id": "YcYX-A38l5k9"
      }
    },
    {
      "cell_type": "markdown",
      "source": [
        "###object detection을 실행을 위한 파일과 패키지 다운로드 및 임포트"
      ],
      "metadata": {
        "id": "zTRLxTXnJ3s7"
      }
    },
    {
      "cell_type": "code",
      "source": [
        "# YOLOv5 레퍼지토리 clone\n",
        "!git clone https://github.com/ultralytics/yolov5"
      ],
      "metadata": {
        "colab": {
          "base_uri": "https://localhost:8080/"
        },
        "id": "oFiyyElUmLtj",
        "outputId": "2e9e2256-7e65-4df5-b601-ef0624035aca"
      },
      "execution_count": 1,
      "outputs": [
        {
          "output_type": "stream",
          "name": "stdout",
          "text": [
            "Cloning into 'yolov5'...\n",
            "remote: Enumerating objects: 16036, done.\u001b[K\n",
            "remote: Counting objects: 100% (69/69), done.\u001b[K\n",
            "remote: Compressing objects: 100% (44/44), done.\u001b[K\n",
            "remote: Total 16036 (delta 39), reused 42 (delta 25), pack-reused 15967\u001b[K\n",
            "Receiving objects: 100% (16036/16036), 14.67 MiB | 12.13 MiB/s, done.\n",
            "Resolving deltas: 100% (11001/11001), done.\n"
          ]
        }
      ]
    },
    {
      "cell_type": "code",
      "source": [
        "# 코드 수행을 위해 필요한 패키지 다운로드 및 임포트\n",
        "\n",
        "!pip install pytube --upgrade\n",
        "!pip install fastapi\n",
        "!pip install kaleido\n",
        "!pip install python-multipart\n",
        "!pip install uvicorn\n",
        "!pip install pyparsing==2.4.7\n",
        "!pip install numpy==1.23.5\n",
        "\n",
        "%cd yolov5\n",
        "%pip install -qr requirements.txt\n",
        "%pip install -q roboflow\n",
        "\n",
        "import os\n",
        "import sys\n",
        "import sqlite3\n",
        "import traceback\n",
        "import logging\n",
        "\n",
        "import torch\n",
        "import yaml\n",
        "\n",
        "from IPython.display import Image, clear_output\n",
        "\n",
        "print(f\"Setup complete. Using torch {torch.__version__} ({torch.cuda.get_device_properties(0).name if torch.cuda.is_available() else 'CPU'})\")"
      ],
      "metadata": {
        "colab": {
          "base_uri": "https://localhost:8080/",
          "height": 1000
        },
        "id": "f9xVxPRf-Fbj",
        "outputId": "5ff95991-476f-4132-b799-d01013c6e20e"
      },
      "execution_count": 2,
      "outputs": [
        {
          "output_type": "stream",
          "name": "stdout",
          "text": [
            "Collecting pytube\n",
            "  Downloading pytube-15.0.0-py3-none-any.whl (57 kB)\n",
            "\u001b[?25l     \u001b[90m━━━━━━━━━━━━━━━━━━━━━━━━━━━━━━━━━━━━━━━━\u001b[0m \u001b[32m0.0/57.6 kB\u001b[0m \u001b[31m?\u001b[0m eta \u001b[36m-:--:--\u001b[0m\r\u001b[2K     \u001b[90m━━━━━━━━━━━━━━━━━━━━━━━━━━━━━━━━━━━━━━━━\u001b[0m \u001b[32m57.6/57.6 kB\u001b[0m \u001b[31m1.9 MB/s\u001b[0m eta \u001b[36m0:00:00\u001b[0m\n",
            "\u001b[?25hInstalling collected packages: pytube\n",
            "Successfully installed pytube-15.0.0\n",
            "Collecting fastapi\n",
            "  Downloading fastapi-0.104.1-py3-none-any.whl (92 kB)\n",
            "\u001b[2K     \u001b[90m━━━━━━━━━━━━━━━━━━━━━━━━━━━━━━━━━━━━━━━━\u001b[0m \u001b[32m92.9/92.9 kB\u001b[0m \u001b[31m2.8 MB/s\u001b[0m eta \u001b[36m0:00:00\u001b[0m\n",
            "\u001b[?25hRequirement already satisfied: anyio<4.0.0,>=3.7.1 in /usr/local/lib/python3.10/dist-packages (from fastapi) (3.7.1)\n",
            "Requirement already satisfied: pydantic!=1.8,!=1.8.1,!=2.0.0,!=2.0.1,!=2.1.0,<3.0.0,>=1.7.4 in /usr/local/lib/python3.10/dist-packages (from fastapi) (1.10.13)\n",
            "Collecting starlette<0.28.0,>=0.27.0 (from fastapi)\n",
            "  Downloading starlette-0.27.0-py3-none-any.whl (66 kB)\n",
            "\u001b[2K     \u001b[90m━━━━━━━━━━━━━━━━━━━━━━━━━━━━━━━━━━━━━━━━\u001b[0m \u001b[32m67.0/67.0 kB\u001b[0m \u001b[31m7.5 MB/s\u001b[0m eta \u001b[36m0:00:00\u001b[0m\n",
            "\u001b[?25hCollecting typing-extensions>=4.8.0 (from fastapi)\n",
            "  Downloading typing_extensions-4.8.0-py3-none-any.whl (31 kB)\n",
            "Requirement already satisfied: idna>=2.8 in /usr/local/lib/python3.10/dist-packages (from anyio<4.0.0,>=3.7.1->fastapi) (3.4)\n",
            "Requirement already satisfied: sniffio>=1.1 in /usr/local/lib/python3.10/dist-packages (from anyio<4.0.0,>=3.7.1->fastapi) (1.3.0)\n",
            "Requirement already satisfied: exceptiongroup in /usr/local/lib/python3.10/dist-packages (from anyio<4.0.0,>=3.7.1->fastapi) (1.1.3)\n",
            "Installing collected packages: typing-extensions, starlette, fastapi\n",
            "  Attempting uninstall: typing-extensions\n",
            "    Found existing installation: typing_extensions 4.5.0\n",
            "    Uninstalling typing_extensions-4.5.0:\n",
            "      Successfully uninstalled typing_extensions-4.5.0\n",
            "\u001b[31mERROR: pip's dependency resolver does not currently take into account all the packages that are installed. This behaviour is the source of the following dependency conflicts.\n",
            "lida 0.0.10 requires kaleido, which is not installed.\n",
            "lida 0.0.10 requires python-multipart, which is not installed.\n",
            "lida 0.0.10 requires uvicorn, which is not installed.\n",
            "tensorflow-probability 0.22.0 requires typing-extensions<4.6.0, but you have typing-extensions 4.8.0 which is incompatible.\u001b[0m\u001b[31m\n",
            "\u001b[0mSuccessfully installed fastapi-0.104.1 starlette-0.27.0 typing-extensions-4.8.0\n",
            "Collecting kaleido\n",
            "  Downloading kaleido-0.2.1-py2.py3-none-manylinux1_x86_64.whl (79.9 MB)\n",
            "\u001b[2K     \u001b[90m━━━━━━━━━━━━━━━━━━━━━━━━━━━━━━━━━━━━━━━━\u001b[0m \u001b[32m79.9/79.9 MB\u001b[0m \u001b[31m11.1 MB/s\u001b[0m eta \u001b[36m0:00:00\u001b[0m\n",
            "\u001b[?25hInstalling collected packages: kaleido\n",
            "\u001b[31mERROR: pip's dependency resolver does not currently take into account all the packages that are installed. This behaviour is the source of the following dependency conflicts.\n",
            "lida 0.0.10 requires python-multipart, which is not installed.\n",
            "lida 0.0.10 requires uvicorn, which is not installed.\u001b[0m\u001b[31m\n",
            "\u001b[0mSuccessfully installed kaleido-0.2.1\n",
            "Collecting python-multipart\n",
            "  Downloading python_multipart-0.0.6-py3-none-any.whl (45 kB)\n",
            "\u001b[2K     \u001b[90m━━━━━━━━━━━━━━━━━━━━━━━━━━━━━━━━━━━━━━━━\u001b[0m \u001b[32m45.7/45.7 kB\u001b[0m \u001b[31m1.8 MB/s\u001b[0m eta \u001b[36m0:00:00\u001b[0m\n",
            "\u001b[?25hInstalling collected packages: python-multipart\n",
            "\u001b[31mERROR: pip's dependency resolver does not currently take into account all the packages that are installed. This behaviour is the source of the following dependency conflicts.\n",
            "lida 0.0.10 requires uvicorn, which is not installed.\u001b[0m\u001b[31m\n",
            "\u001b[0mSuccessfully installed python-multipart-0.0.6\n",
            "Collecting uvicorn\n",
            "  Downloading uvicorn-0.23.2-py3-none-any.whl (59 kB)\n",
            "\u001b[2K     \u001b[90m━━━━━━━━━━━━━━━━━━━━━━━━━━━━━━━━━━━━━━━━\u001b[0m \u001b[32m59.5/59.5 kB\u001b[0m \u001b[31m2.1 MB/s\u001b[0m eta \u001b[36m0:00:00\u001b[0m\n",
            "\u001b[?25hRequirement already satisfied: click>=7.0 in /usr/local/lib/python3.10/dist-packages (from uvicorn) (8.1.7)\n",
            "Collecting h11>=0.8 (from uvicorn)\n",
            "  Downloading h11-0.14.0-py3-none-any.whl (58 kB)\n",
            "\u001b[2K     \u001b[90m━━━━━━━━━━━━━━━━━━━━━━━━━━━━━━━━━━━━━━━━\u001b[0m \u001b[32m58.3/58.3 kB\u001b[0m \u001b[31m5.7 MB/s\u001b[0m eta \u001b[36m0:00:00\u001b[0m\n",
            "\u001b[?25hRequirement already satisfied: typing-extensions>=4.0 in /usr/local/lib/python3.10/dist-packages (from uvicorn) (4.8.0)\n",
            "Installing collected packages: h11, uvicorn\n",
            "Successfully installed h11-0.14.0 uvicorn-0.23.2\n",
            "Collecting pyparsing==2.4.7\n",
            "  Downloading pyparsing-2.4.7-py2.py3-none-any.whl (67 kB)\n",
            "\u001b[2K     \u001b[90m━━━━━━━━━━━━━━━━━━━━━━━━━━━━━━━━━━━━━━━━\u001b[0m \u001b[32m67.8/67.8 kB\u001b[0m \u001b[31m2.2 MB/s\u001b[0m eta \u001b[36m0:00:00\u001b[0m\n",
            "\u001b[?25hInstalling collected packages: pyparsing\n",
            "  Attempting uninstall: pyparsing\n",
            "    Found existing installation: pyparsing 3.1.1\n",
            "    Uninstalling pyparsing-3.1.1:\n",
            "      Successfully uninstalled pyparsing-3.1.1\n",
            "Successfully installed pyparsing-2.4.7\n"
          ]
        },
        {
          "output_type": "display_data",
          "data": {
            "application/vnd.colab-display-data+json": {
              "pip_warning": {
                "packages": [
                  "pyparsing"
                ]
              }
            }
          },
          "metadata": {}
        },
        {
          "output_type": "stream",
          "name": "stdout",
          "text": [
            "Requirement already satisfied: numpy==1.23.5 in /usr/local/lib/python3.10/dist-packages (1.23.5)\n",
            "/content/yolov5\n",
            "\u001b[2K     \u001b[90m━━━━━━━━━━━━━━━━━━━━━━━━━━━━━━━━━━━━━━━━\u001b[0m \u001b[32m190.6/190.6 kB\u001b[0m \u001b[31m4.3 MB/s\u001b[0m eta \u001b[36m0:00:00\u001b[0m\n",
            "\u001b[2K     \u001b[90m━━━━━━━━━━━━━━━━━━━━━━━━━━━━━━━━━━━━━━━━\u001b[0m \u001b[32m644.8/644.8 kB\u001b[0m \u001b[31m13.3 MB/s\u001b[0m eta \u001b[36m0:00:00\u001b[0m\n",
            "\u001b[2K     \u001b[90m━━━━━━━━━━━━━━━━━━━━━━━━━━━━━━━━━━━━━━━━\u001b[0m \u001b[32m62.7/62.7 kB\u001b[0m \u001b[31m7.1 MB/s\u001b[0m eta \u001b[36m0:00:00\u001b[0m\n",
            "\u001b[2K     \u001b[90m━━━━━━━━━━━━━━━━━━━━━━━━━━━━━━━━━━━━━━━━\u001b[0m \u001b[32m58.8/58.8 kB\u001b[0m \u001b[31m1.9 MB/s\u001b[0m eta \u001b[36m0:00:00\u001b[0m\n",
            "\u001b[2K     \u001b[90m━━━━━━━━━━━━━━━━━━━━━━━━━━━━━━━━━━━━━━━━\u001b[0m \u001b[32m155.3/155.3 kB\u001b[0m \u001b[31m5.8 MB/s\u001b[0m eta \u001b[36m0:00:00\u001b[0m\n",
            "\u001b[2K     \u001b[90m━━━━━━━━━━━━━━━━━━━━━━━━━━━━━━━━━━━━━━━━\u001b[0m \u001b[32m178.7/178.7 kB\u001b[0m \u001b[31m7.9 MB/s\u001b[0m eta \u001b[36m0:00:00\u001b[0m\n",
            "\u001b[2K     \u001b[90m━━━━━━━━━━━━━━━━━━━━━━━━━━━━━━━━━━━━━━━━\u001b[0m \u001b[32m58.8/58.8 kB\u001b[0m \u001b[31m6.9 MB/s\u001b[0m eta \u001b[36m0:00:00\u001b[0m\n",
            "\u001b[2K     \u001b[90m━━━━━━━━━━━━━━━━━━━━━━━━━━━━━━━━━━━━━━━━\u001b[0m \u001b[32m49.1/49.1 MB\u001b[0m \u001b[31m12.0 MB/s\u001b[0m eta \u001b[36m0:00:00\u001b[0m\n",
            "\u001b[2K     \u001b[90m━━━━━━━━━━━━━━━━━━━━━━━━━━━━━━━━━━━━━━━━\u001b[0m \u001b[32m72.2/72.2 kB\u001b[0m \u001b[31m9.7 MB/s\u001b[0m eta \u001b[36m0:00:00\u001b[0m\n",
            "\u001b[2K     \u001b[90m━━━━━━━━━━━━━━━━━━━━━━━━━━━━━━━━━━━━━━━━\u001b[0m \u001b[32m54.5/54.5 kB\u001b[0m \u001b[31m6.8 MB/s\u001b[0m eta \u001b[36m0:00:00\u001b[0m\n",
            "\u001b[?25hSetup complete. Using torch 2.1.0+cu118 (CPU)\n"
          ]
        }
      ]
    },
    {
      "cell_type": "markdown",
      "source": [
        "### Roboflow에서 labeling한 데이터 가져오기"
      ],
      "metadata": {
        "id": "AoJj6XvYKb5U"
      }
    },
    {
      "cell_type": "code",
      "execution_count": 3,
      "metadata": {
        "colab": {
          "base_uri": "https://localhost:8080/"
        },
        "id": "urPVzFmZjR3X",
        "outputId": "9b6a66ca-1124-49ba-a7d5-8ea882ee5ecd"
      },
      "outputs": [
        {
          "output_type": "stream",
          "name": "stdout",
          "text": [
            "Requirement already satisfied: roboflow in /usr/local/lib/python3.10/dist-packages (1.1.7)\n",
            "Requirement already satisfied: certifi==2022.12.7 in /usr/local/lib/python3.10/dist-packages (from roboflow) (2022.12.7)\n",
            "Requirement already satisfied: chardet==4.0.0 in /usr/local/lib/python3.10/dist-packages (from roboflow) (4.0.0)\n",
            "Requirement already satisfied: cycler==0.10.0 in /usr/local/lib/python3.10/dist-packages (from roboflow) (0.10.0)\n",
            "Requirement already satisfied: idna==2.10 in /usr/local/lib/python3.10/dist-packages (from roboflow) (2.10)\n",
            "Requirement already satisfied: kiwisolver>=1.3.1 in /usr/local/lib/python3.10/dist-packages (from roboflow) (1.4.5)\n",
            "Requirement already satisfied: matplotlib in /usr/local/lib/python3.10/dist-packages (from roboflow) (3.7.1)\n",
            "Requirement already satisfied: numpy>=1.18.5 in /usr/local/lib/python3.10/dist-packages (from roboflow) (1.23.5)\n",
            "Requirement already satisfied: opencv-python-headless==4.8.0.74 in /usr/local/lib/python3.10/dist-packages (from roboflow) (4.8.0.74)\n",
            "Requirement already satisfied: Pillow>=7.1.2 in /usr/local/lib/python3.10/dist-packages (from roboflow) (9.4.0)\n",
            "Requirement already satisfied: pyparsing==2.4.7 in /usr/local/lib/python3.10/dist-packages (from roboflow) (2.4.7)\n",
            "Requirement already satisfied: python-dateutil in /usr/local/lib/python3.10/dist-packages (from roboflow) (2.8.2)\n",
            "Requirement already satisfied: python-dotenv in /usr/local/lib/python3.10/dist-packages (from roboflow) (1.0.0)\n",
            "Requirement already satisfied: requests in /usr/local/lib/python3.10/dist-packages (from roboflow) (2.31.0)\n",
            "Requirement already satisfied: six in /usr/local/lib/python3.10/dist-packages (from roboflow) (1.16.0)\n",
            "Requirement already satisfied: supervision in /usr/local/lib/python3.10/dist-packages (from roboflow) (0.16.0)\n",
            "Requirement already satisfied: urllib3>=1.26.6 in /usr/local/lib/python3.10/dist-packages (from roboflow) (2.0.7)\n",
            "Requirement already satisfied: tqdm>=4.41.0 in /usr/local/lib/python3.10/dist-packages (from roboflow) (4.66.1)\n",
            "Requirement already satisfied: PyYAML>=5.3.1 in /usr/local/lib/python3.10/dist-packages (from roboflow) (6.0.1)\n",
            "Requirement already satisfied: requests-toolbelt in /usr/local/lib/python3.10/dist-packages (from roboflow) (1.0.0)\n",
            "Requirement already satisfied: contourpy>=1.0.1 in /usr/local/lib/python3.10/dist-packages (from matplotlib->roboflow) (1.1.1)\n",
            "Requirement already satisfied: fonttools>=4.22.0 in /usr/local/lib/python3.10/dist-packages (from matplotlib->roboflow) (4.43.1)\n",
            "Requirement already satisfied: packaging>=20.0 in /usr/local/lib/python3.10/dist-packages (from matplotlib->roboflow) (23.2)\n",
            "Requirement already satisfied: charset-normalizer<4,>=2 in /usr/local/lib/python3.10/dist-packages (from requests->roboflow) (3.3.1)\n",
            "Requirement already satisfied: scipy<2.0.0,>=1.9.0 in /usr/local/lib/python3.10/dist-packages (from supervision->roboflow) (1.11.3)\n",
            "loading Roboflow workspace...\n",
            "loading Roboflow project...\n"
          ]
        },
        {
          "output_type": "stream",
          "name": "stderr",
          "text": [
            "Downloading Dataset Version Zip in HAND-2 to yolov5pytorch:: 100%|██████████| 181/181 [00:00<00:00, 18611.19it/s]"
          ]
        },
        {
          "output_type": "stream",
          "name": "stdout",
          "text": [
            "\n"
          ]
        },
        {
          "output_type": "stream",
          "name": "stderr",
          "text": [
            "\n",
            "Extracting Dataset Version Zip to HAND-2 in yolov5pytorch:: 100%|██████████| 22/22 [00:00<00:00, 2611.79it/s]\n"
          ]
        }
      ],
      "source": [
        "# roboflow를 통해 labeling한 데이터 받아오기\n",
        "!pip install roboflow\n",
        "\n",
        "from roboflow import Roboflow\n",
        "rf = Roboflow(api_key=\"ZbhbbA0UcYsnPIJPjBZ3\")\n",
        "project = rf.workspace(\"yeinoh36\").project(\"hand-xndvh\")\n",
        "dataset = project.version(2).download(\"yolov5\")"
      ]
    },
    {
      "cell_type": "markdown",
      "source": [
        "### training 전 dataset 정리하기"
      ],
      "metadata": {
        "id": "jDM1whRhKrU1"
      }
    },
    {
      "cell_type": "code",
      "source": [
        "# 데이터 파일의 위치 변경을 위한 함수 생성\n",
        "\n",
        "logger = logging.getLogger('wpg_logger')\n",
        "logging.basicConfig(encoding='utf-8', level=logging.INFO, format='%(levelname)s:%(name)s:%(asctime)s:%(message)s', filename='./logger.log', filemode='a')\n",
        "logger.info('[Start]')\n",
        "\n",
        "rootPath=\"/content\"\n",
        "\n",
        "logger.info('[makeDir]')\n",
        "# 폴더 체크 후 없으면 생성\n",
        "def makeDir(rootPath, dir):\n",
        "  # root 경로에 원하는 폴더 이름 합치기\n",
        "  dirPath = rootPath + \"/\" + dir\n",
        "  # sqlDirPath에 폴더가 있는지 확인\n",
        "  if os.path.exists(dirPath):\n",
        "    logger.info('[makeDir] exists makeDirPath : '+ dirPath)\n",
        "\n",
        "  else:\n",
        "      os.makedirs(dirPath)\n",
        "      logger.info('[makeDir] makedirs success : ' + dirPath)"
      ],
      "metadata": {
        "id": "18wdJgil5w5s"
      },
      "execution_count": 4,
      "outputs": []
    },
    {
      "cell_type": "code",
      "source": [
        "# data 폴더 생성 및 이미지와 라벨 데이터 이동\n",
        "\n",
        "logger.info('[logic]logic start')\n",
        "makeDir(rootPath, 'data')\n",
        "\n",
        "rootPath = \"/content/data\"\n",
        "makeDir(rootPath, 'images')\n",
        "makeDir(rootPath, 'labels')\n",
        "\n",
        "rootPath = \"/content/data/images\"\n",
        "makeDir(rootPath, 'train')\n",
        "makeDir(rootPath, 'valid')\n",
        "makeDir(rootPath, 'test')\n",
        "\n",
        "rootPath = \"/content/data/labels\"\n",
        "makeDir(rootPath, 'train')\n",
        "makeDir(rootPath, 'valid')\n",
        "makeDir(rootPath, 'test')\n",
        "\n",
        "# images 이동\n",
        "src = '/content/yolov5/HAND-2/train/images/sample_image4_png.rf.bca4a70d1036296b80e870b3d5d49b5e.jpg'\n",
        "dest = '/content/data/images/train/sample_image4_png.rf.bca4a70d1036296b80e870b3d5d49b5e.jpg'\n",
        "os.replace(src, dest)\n",
        "\n",
        "src = '/content/yolov5/HAND-2/train/images/sample_image_png.rf.084792c992b4df707536d39deb559740.jpg'\n",
        "dest = '/content/data/images/train/sample_image_png.rf.084792c992b4df707536d39deb559740.jpg'\n",
        "os.replace(src, dest)\n",
        "\n",
        "src = '/content/yolov5/HAND-2/valid/images/sample_image3_png.rf.e61a5d22085c4b13ca115e9630c60d1f.jpg'\n",
        "dest = '/content/data/images/valid/sample_image3_png.rf.e61a5d22085c4b13ca115e9630c60d1f.jpg'\n",
        "os.replace(src, dest)\n",
        "\n",
        "src = '/content/yolov5/HAND-2/valid/images/sample_image5_png.rf.b21e180d65eb0ae9ec5ebc3148bcb7c2.jpg'\n",
        "dest = '/content/data/images/valid/sample_image5_png.rf.b21e180d65eb0ae9ec5ebc3148bcb7c2.jpg'\n",
        "os.replace(src, dest)\n",
        "\n",
        "src = '/content/yolov5/HAND-2/test/images/sample_image2_png.rf.8d8f70bca117a0a4073b40ec4765c874.jpg'\n",
        "dest = '/content/data/images/test/sample_image2_png.rf.8d8f70bca117a0a4073b40ec4765c874.jpg'\n",
        "os.replace(src, dest)\n",
        "\n",
        "# labels 이동\n",
        "src = '/content/yolov5/HAND-2/train/labels/sample_image4_png.rf.bca4a70d1036296b80e870b3d5d49b5e.txt'\n",
        "dest = '/content/data/labels/train/sample_image4_png.rf.bca4a70d1036296b80e870b3d5d49b5e.txt'\n",
        "os.replace(src, dest)\n",
        "\n",
        "src = '/content/yolov5/HAND-2/train/labels/sample_image_png.rf.084792c992b4df707536d39deb559740.txt'\n",
        "dest = '/content/data/labels/train/sample_image_png.rf.084792c992b4df707536d39deb559740.txt'\n",
        "os.replace(src, dest)\n",
        "\n",
        "src = '/content/yolov5/HAND-2/valid/labels/sample_image3_png.rf.e61a5d22085c4b13ca115e9630c60d1f.txt'\n",
        "dest = '/content/data/labels/valid/sample_image3_png.rf.e61a5d22085c4b13ca115e9630c60d1f.txt'\n",
        "os.replace(src, dest)\n",
        "\n",
        "src = '/content/yolov5/HAND-2/valid/labels/sample_image5_png.rf.b21e180d65eb0ae9ec5ebc3148bcb7c2.txt'\n",
        "dest = '/content/data/labels/valid/sample_image5_png.rf.b21e180d65eb0ae9ec5ebc3148bcb7c2.txt'\n",
        "os.replace(src, dest)\n",
        "\n",
        "src = '/content/yolov5/HAND-2/test/labels/sample_image2_png.rf.8d8f70bca117a0a4073b40ec4765c874.txt'\n",
        "dest = '/content/data/labels/test/sample_image2_png.rf.8d8f70bca117a0a4073b40ec4765c874.txt'\n",
        "os.replace(src, dest)"
      ],
      "metadata": {
        "id": "fyxgHRA48crL"
      },
      "execution_count": 5,
      "outputs": []
    },
    {
      "cell_type": "markdown",
      "source": [
        "### data yaml 파일 수정하기"
      ],
      "metadata": {
        "id": "hlpnpabEK3lJ"
      }
    },
    {
      "cell_type": "code",
      "source": [
        "# data dir와 yaml 설정\n",
        "data_dir = '/content/data'\n",
        "data_yaml = 'HAND-2/data.yaml'\n",
        "\n",
        "# 데이터셋 yaml 파일 확인\n",
        "print('기존 yaml 파일 :')\n",
        "with open(data_yaml) as f:\n",
        "    film = yaml.load(f, Loader=yaml.FullLoader)\n",
        "    display(film)\n",
        "\n",
        "# yaml 파일의 train, val, test 데이터가 있는 경로 수정\n",
        "film['train'] = '/content/data/images/train'\n",
        "film['val'] = '/content/data/images/valid'\n",
        "film['test'] = '/content/data/images/test'\n",
        "\n",
        "with open(data_yaml, 'w') as f:\n",
        "    yaml.dump(film, f)\n",
        "\n",
        "# 수정된 data yaml 파일 확인\n",
        "print('변경된 yaml 파일 :')\n",
        "with open(data_yaml) as f:\n",
        "    film = yaml.load(f, Loader=yaml.FullLoader)\n",
        "    display(film)"
      ],
      "metadata": {
        "colab": {
          "base_uri": "https://localhost:8080/",
          "height": 410
        },
        "id": "B2Kty1QAC1_e",
        "outputId": "aef9c5cd-5862-4420-9a78-9281fbf9c0eb"
      },
      "execution_count": 6,
      "outputs": [
        {
          "output_type": "stream",
          "name": "stdout",
          "text": [
            "기존 yaml 파일 :\n"
          ]
        },
        {
          "output_type": "display_data",
          "data": {
            "text/plain": [
              "{'names': ['left', 'right'],\n",
              " 'nc': 2,\n",
              " 'roboflow': {'license': 'CC BY 4.0',\n",
              "  'project': 'hand-xndvh',\n",
              "  'url': 'https://universe.roboflow.com/yeinoh36/hand-xndvh/dataset/2',\n",
              "  'version': 2,\n",
              "  'workspace': 'yeinoh36'},\n",
              " 'test': '../test/images',\n",
              " 'train': 'HAND-2/train/images',\n",
              " 'val': 'HAND-2/valid/images'}"
            ]
          },
          "metadata": {}
        },
        {
          "output_type": "stream",
          "name": "stdout",
          "text": [
            "변경된 yaml 파일 :\n"
          ]
        },
        {
          "output_type": "display_data",
          "data": {
            "text/plain": [
              "{'names': ['left', 'right'],\n",
              " 'nc': 2,\n",
              " 'roboflow': {'license': 'CC BY 4.0',\n",
              "  'project': 'hand-xndvh',\n",
              "  'url': 'https://universe.roboflow.com/yeinoh36/hand-xndvh/dataset/2',\n",
              "  'version': 2,\n",
              "  'workspace': 'yeinoh36'},\n",
              " 'test': '/content/data/images/test',\n",
              " 'train': '/content/data/images/train',\n",
              " 'val': '/content/data/images/valid'}"
            ]
          },
          "metadata": {}
        }
      ]
    },
    {
      "cell_type": "markdown",
      "source": [
        "### hyp yaml 파일 수정하기"
      ],
      "metadata": {
        "id": "_kbVgczkLJ_g"
      }
    },
    {
      "cell_type": "code",
      "source": [
        "# hyp dir과 yaml 설정\n",
        "hyp_dir = 'data/hyps'\n",
        "hyp_yaml = 'data/hyps/hyp.scratch-low.yaml'\n",
        "\n",
        "# hyp yaml 파일 확인\n",
        "print('기존 hyp yaml 파일 :')\n",
        "with open(hyp_yaml) as f:\n",
        "    hyp = yaml.load(f, Loader=yaml.FullLoader)\n",
        "    display(hyp)\n",
        "\n",
        "# yaml 파일의 learning rate 수정\n",
        "hyp['lr0'] = 0.003\n",
        "\n",
        "with open(hyp_yaml, 'w') as f:\n",
        "    yaml.dump(hyp, f)\n",
        "\n",
        "# 수정된 hyp yaml 파일 확인\n",
        "print('변경된 hyp yaml 파일 :')\n",
        "with open(hyp_yaml) as f:\n",
        "    new_hyp = yaml.load(f, Loader=yaml.FullLoader)\n",
        "    display(new_hyp)"
      ],
      "metadata": {
        "colab": {
          "base_uri": "https://localhost:8080/",
          "height": 1000
        },
        "id": "jgaeJnHm4PuW",
        "outputId": "c493027b-d812-4d20-9a7b-f358fe4a384e"
      },
      "execution_count": 7,
      "outputs": [
        {
          "output_type": "stream",
          "name": "stdout",
          "text": [
            "기존 hyp yaml 파일 :\n"
          ]
        },
        {
          "output_type": "display_data",
          "data": {
            "text/plain": [
              "{'lr0': 0.01,\n",
              " 'lrf': 0.01,\n",
              " 'momentum': 0.937,\n",
              " 'weight_decay': 0.0005,\n",
              " 'warmup_epochs': 3.0,\n",
              " 'warmup_momentum': 0.8,\n",
              " 'warmup_bias_lr': 0.1,\n",
              " 'box': 0.05,\n",
              " 'cls': 0.5,\n",
              " 'cls_pw': 1.0,\n",
              " 'obj': 1.0,\n",
              " 'obj_pw': 1.0,\n",
              " 'iou_t': 0.2,\n",
              " 'anchor_t': 4.0,\n",
              " 'fl_gamma': 0.0,\n",
              " 'hsv_h': 0.015,\n",
              " 'hsv_s': 0.7,\n",
              " 'hsv_v': 0.4,\n",
              " 'degrees': 0.0,\n",
              " 'translate': 0.1,\n",
              " 'scale': 0.5,\n",
              " 'shear': 0.0,\n",
              " 'perspective': 0.0,\n",
              " 'flipud': 0.0,\n",
              " 'fliplr': 0.5,\n",
              " 'mosaic': 1.0,\n",
              " 'mixup': 0.0,\n",
              " 'copy_paste': 0.0}"
            ]
          },
          "metadata": {}
        },
        {
          "output_type": "stream",
          "name": "stdout",
          "text": [
            "변경된 hyp yaml 파일 :\n"
          ]
        },
        {
          "output_type": "display_data",
          "data": {
            "text/plain": [
              "{'anchor_t': 4.0,\n",
              " 'box': 0.05,\n",
              " 'cls': 0.5,\n",
              " 'cls_pw': 1.0,\n",
              " 'copy_paste': 0.0,\n",
              " 'degrees': 0.0,\n",
              " 'fl_gamma': 0.0,\n",
              " 'fliplr': 0.5,\n",
              " 'flipud': 0.0,\n",
              " 'hsv_h': 0.015,\n",
              " 'hsv_s': 0.7,\n",
              " 'hsv_v': 0.4,\n",
              " 'iou_t': 0.2,\n",
              " 'lr0': 0.003,\n",
              " 'lrf': 0.01,\n",
              " 'mixup': 0.0,\n",
              " 'momentum': 0.937,\n",
              " 'mosaic': 1.0,\n",
              " 'obj': 1.0,\n",
              " 'obj_pw': 1.0,\n",
              " 'perspective': 0.0,\n",
              " 'scale': 0.5,\n",
              " 'shear': 0.0,\n",
              " 'translate': 0.1,\n",
              " 'warmup_bias_lr': 0.1,\n",
              " 'warmup_epochs': 3.0,\n",
              " 'warmup_momentum': 0.8,\n",
              " 'weight_decay': 0.0005}"
            ]
          },
          "metadata": {}
        }
      ]
    },
    {
      "cell_type": "markdown",
      "source": [
        "### train"
      ],
      "metadata": {
        "id": "WuN2KXKELlue"
      }
    },
    {
      "cell_type": "code",
      "source": [
        "# 결과를 시각화하기 위한 wandb 설치\n",
        "!pip install wandb\n",
        "\n",
        "# train 시작\n",
        "!python train.py --img 640 --batch 16 --epochs 10 --data {data_yaml} --cfg '/content/yolov5/models/yolov5m.yaml' --weights yolov5s.pt"
      ],
      "metadata": {
        "colab": {
          "base_uri": "https://localhost:8080/"
        },
        "id": "0LtImXQXlt4y",
        "outputId": "5c98d754-1cfe-42ff-e9b1-b329d118d0ae"
      },
      "execution_count": 8,
      "outputs": [
        {
          "output_type": "stream",
          "name": "stdout",
          "text": [
            "Collecting wandb\n",
            "  Downloading wandb-0.15.12-py3-none-any.whl (2.1 MB)\n",
            "\u001b[2K     \u001b[90m━━━━━━━━━━━━━━━━━━━━━━━━━━━━━━━━━━━━━━━━\u001b[0m \u001b[32m2.1/2.1 MB\u001b[0m \u001b[31m12.3 MB/s\u001b[0m eta \u001b[36m0:00:00\u001b[0m\n",
            "\u001b[?25hRequirement already satisfied: Click!=8.0.0,>=7.1 in /usr/local/lib/python3.10/dist-packages (from wandb) (8.1.7)\n",
            "Requirement already satisfied: GitPython!=3.1.29,>=1.0.0 in /usr/local/lib/python3.10/dist-packages (from wandb) (3.1.40)\n",
            "Requirement already satisfied: requests<3,>=2.0.0 in /usr/local/lib/python3.10/dist-packages (from wandb) (2.31.0)\n",
            "Requirement already satisfied: psutil>=5.0.0 in /usr/local/lib/python3.10/dist-packages (from wandb) (5.9.5)\n",
            "Collecting sentry-sdk>=1.0.0 (from wandb)\n",
            "  Downloading sentry_sdk-1.33.1-py2.py3-none-any.whl (243 kB)\n",
            "\u001b[2K     \u001b[90m━━━━━━━━━━━━━━━━━━━━━━━━━━━━━━━━━━━━━━━━\u001b[0m \u001b[32m243.2/243.2 kB\u001b[0m \u001b[31m15.2 MB/s\u001b[0m eta \u001b[36m0:00:00\u001b[0m\n",
            "\u001b[?25hCollecting docker-pycreds>=0.4.0 (from wandb)\n",
            "  Downloading docker_pycreds-0.4.0-py2.py3-none-any.whl (9.0 kB)\n",
            "Requirement already satisfied: PyYAML in /usr/local/lib/python3.10/dist-packages (from wandb) (6.0.1)\n",
            "Collecting pathtools (from wandb)\n",
            "  Downloading pathtools-0.1.2.tar.gz (11 kB)\n",
            "  Preparing metadata (setup.py) ... \u001b[?25l\u001b[?25hdone\n",
            "Collecting setproctitle (from wandb)\n",
            "  Downloading setproctitle-1.3.3-cp310-cp310-manylinux_2_5_x86_64.manylinux1_x86_64.manylinux_2_17_x86_64.manylinux2014_x86_64.whl (30 kB)\n",
            "Requirement already satisfied: setuptools in /usr/local/lib/python3.10/dist-packages (from wandb) (67.7.2)\n",
            "Requirement already satisfied: appdirs>=1.4.3 in /usr/local/lib/python3.10/dist-packages (from wandb) (1.4.4)\n",
            "Requirement already satisfied: protobuf!=4.21.0,<5,>=3.19.0 in /usr/local/lib/python3.10/dist-packages (from wandb) (3.20.3)\n",
            "Requirement already satisfied: six>=1.4.0 in /usr/local/lib/python3.10/dist-packages (from docker-pycreds>=0.4.0->wandb) (1.16.0)\n",
            "Requirement already satisfied: gitdb<5,>=4.0.1 in /usr/local/lib/python3.10/dist-packages (from GitPython!=3.1.29,>=1.0.0->wandb) (4.0.11)\n",
            "Requirement already satisfied: charset-normalizer<4,>=2 in /usr/local/lib/python3.10/dist-packages (from requests<3,>=2.0.0->wandb) (3.3.1)\n",
            "Requirement already satisfied: idna<4,>=2.5 in /usr/local/lib/python3.10/dist-packages (from requests<3,>=2.0.0->wandb) (2.10)\n",
            "Requirement already satisfied: urllib3<3,>=1.21.1 in /usr/local/lib/python3.10/dist-packages (from requests<3,>=2.0.0->wandb) (2.0.7)\n",
            "Requirement already satisfied: certifi>=2017.4.17 in /usr/local/lib/python3.10/dist-packages (from requests<3,>=2.0.0->wandb) (2022.12.7)\n",
            "Requirement already satisfied: smmap<6,>=3.0.1 in /usr/local/lib/python3.10/dist-packages (from gitdb<5,>=4.0.1->GitPython!=3.1.29,>=1.0.0->wandb) (5.0.1)\n",
            "Building wheels for collected packages: pathtools\n",
            "  Building wheel for pathtools (setup.py) ... \u001b[?25l\u001b[?25hdone\n",
            "  Created wheel for pathtools: filename=pathtools-0.1.2-py3-none-any.whl size=8791 sha256=e2b3f28d102da9823e342c64126aa3c492d50d4e2f6eb0c5774b03404528de62\n",
            "  Stored in directory: /root/.cache/pip/wheels/e7/f3/22/152153d6eb222ee7a56ff8617d80ee5207207a8c00a7aab794\n",
            "Successfully built pathtools\n",
            "Installing collected packages: pathtools, setproctitle, sentry-sdk, docker-pycreds, wandb\n",
            "Successfully installed docker-pycreds-0.4.0 pathtools-0.1.2 sentry-sdk-1.33.1 setproctitle-1.3.3 wandb-0.15.12\n",
            "\u001b[34m\u001b[1mwandb\u001b[0m: WARNING ⚠️ wandb is deprecated and will be removed in a future release. See supported integrations at https://github.com/ultralytics/yolov5#integrations.\n",
            "2023-11-02 13:42:57.252567: E tensorflow/compiler/xla/stream_executor/cuda/cuda_dnn.cc:9342] Unable to register cuDNN factory: Attempting to register factory for plugin cuDNN when one has already been registered\n",
            "2023-11-02 13:42:57.252642: E tensorflow/compiler/xla/stream_executor/cuda/cuda_fft.cc:609] Unable to register cuFFT factory: Attempting to register factory for plugin cuFFT when one has already been registered\n",
            "2023-11-02 13:42:57.252695: E tensorflow/compiler/xla/stream_executor/cuda/cuda_blas.cc:1518] Unable to register cuBLAS factory: Attempting to register factory for plugin cuBLAS when one has already been registered\n",
            "\u001b[34m\u001b[1mwandb\u001b[0m: (1) Create a W&B account\n",
            "\u001b[34m\u001b[1mwandb\u001b[0m: (2) Use an existing W&B account\n",
            "\u001b[34m\u001b[1mwandb\u001b[0m: (3) Don't visualize my results\n",
            "\u001b[34m\u001b[1mwandb\u001b[0m: Enter your choice: (30 second timeout) 2\n",
            "\u001b[34m\u001b[1mwandb\u001b[0m: You chose 'Use an existing W&B account'\n",
            "\u001b[34m\u001b[1mwandb\u001b[0m: Logging into wandb.ai. (Learn how to deploy a W&B server locally: https://wandb.me/wandb-server)\n",
            "\u001b[34m\u001b[1mwandb\u001b[0m: You can find your API key in your browser here: https://wandb.ai/authorize\n",
            "\u001b[34m\u001b[1mwandb\u001b[0m: Paste an API key from your profile and hit enter, or press ctrl+c to quit: \n",
            "\u001b[34m\u001b[1mwandb\u001b[0m: Appending key for api.wandb.ai to your netrc file: /root/.netrc\n",
            "\u001b[34m\u001b[1mtrain: \u001b[0mweights=yolov5s.pt, cfg=/content/yolov5/models/yolov5m.yaml, data=HAND-2/data.yaml, hyp=data/hyps/hyp.scratch-low.yaml, epochs=10, batch_size=16, imgsz=640, rect=False, resume=False, nosave=False, noval=False, noautoanchor=False, noplots=False, evolve=None, bucket=, cache=None, image_weights=False, device=, multi_scale=False, single_cls=False, optimizer=SGD, sync_bn=False, workers=8, project=runs/train, name=exp, exist_ok=False, quad=False, cos_lr=False, label_smoothing=0.0, patience=100, freeze=[0], save_period=-1, seed=0, local_rank=-1, entity=None, upload_dataset=False, bbox_interval=-1, artifact_alias=latest\n",
            "\u001b[34m\u001b[1mgithub: \u001b[0mup to date with https://github.com/ultralytics/yolov5 ✅\n",
            "YOLOv5 🚀 v7.0-232-g1c60c53 Python-3.10.12 torch-2.1.0+cu118 CPU\n",
            "\n",
            "\u001b[34m\u001b[1mhyperparameters: \u001b[0manchor_t=4.0, box=0.05, cls=0.5, cls_pw=1.0, copy_paste=0.0, degrees=0.0, fl_gamma=0.0, fliplr=0.5, flipud=0.0, hsv_h=0.015, hsv_s=0.7, hsv_v=0.4, iou_t=0.2, lr0=0.003, lrf=0.01, mixup=0.0, momentum=0.937, mosaic=1.0, obj=1.0, obj_pw=1.0, perspective=0.0, scale=0.5, shear=0.0, translate=0.1, warmup_bias_lr=0.1, warmup_epochs=3.0, warmup_momentum=0.8, weight_decay=0.0005\n",
            "\u001b[34m\u001b[1mComet: \u001b[0mrun 'pip install comet_ml' to automatically track and visualize YOLOv5 🚀 runs in Comet\n",
            "\u001b[34m\u001b[1mTensorBoard: \u001b[0mStart with 'tensorboard --logdir runs/train', view at http://localhost:6006/\n",
            "\u001b[34m\u001b[1mwandb\u001b[0m: Currently logged in as: \u001b[33myeinoh36\u001b[0m (\u001b[33m2070044\u001b[0m). Use \u001b[1m`wandb login --relogin`\u001b[0m to force relogin\n",
            "\u001b[34m\u001b[1mwandb\u001b[0m: Tracking run with wandb version 0.15.12\n",
            "\u001b[34m\u001b[1mwandb\u001b[0m: Run data is saved locally in \u001b[35m\u001b[1m/content/yolov5/wandb/run-20231102_134318-oglw7vup\u001b[0m\n",
            "\u001b[34m\u001b[1mwandb\u001b[0m: Run \u001b[1m`wandb offline`\u001b[0m to turn off syncing.\n",
            "\u001b[34m\u001b[1mwandb\u001b[0m: Syncing run \u001b[33mapricot-resonance-6\u001b[0m\n",
            "\u001b[34m\u001b[1mwandb\u001b[0m: ⭐️ View project at \u001b[34m\u001b[4mhttps://wandb.ai/2070044/YOLOv5\u001b[0m\n",
            "\u001b[34m\u001b[1mwandb\u001b[0m: 🚀 View run at \u001b[34m\u001b[4mhttps://wandb.ai/2070044/YOLOv5/runs/oglw7vup\u001b[0m\n",
            "Downloading https://ultralytics.com/assets/Arial.ttf to /root/.config/Ultralytics/Arial.ttf...\n",
            "100% 755k/755k [00:00<00:00, 26.2MB/s]\n",
            "Downloading https://github.com/ultralytics/yolov5/releases/download/v7.0/yolov5s.pt to yolov5s.pt...\n",
            "100% 14.1M/14.1M [00:00<00:00, 157MB/s]\n",
            "\n",
            "Overriding model.yaml nc=80 with nc=2\n",
            "\n",
            "                 from  n    params  module                                  arguments                     \n",
            "  0                -1  1      5280  models.common.Conv                      [3, 48, 6, 2, 2]              \n",
            "  1                -1  1     41664  models.common.Conv                      [48, 96, 3, 2]                \n",
            "  2                -1  2     65280  models.common.C3                        [96, 96, 2]                   \n",
            "  3                -1  1    166272  models.common.Conv                      [96, 192, 3, 2]               \n",
            "  4                -1  4    444672  models.common.C3                        [192, 192, 4]                 \n",
            "  5                -1  1    664320  models.common.Conv                      [192, 384, 3, 2]              \n",
            "  6                -1  6   2512896  models.common.C3                        [384, 384, 6]                 \n",
            "  7                -1  1   2655744  models.common.Conv                      [384, 768, 3, 2]              \n",
            "  8                -1  2   4134912  models.common.C3                        [768, 768, 2]                 \n",
            "  9                -1  1   1476864  models.common.SPPF                      [768, 768, 5]                 \n",
            " 10                -1  1    295680  models.common.Conv                      [768, 384, 1, 1]              \n",
            " 11                -1  1         0  torch.nn.modules.upsampling.Upsample    [None, 2, 'nearest']          \n",
            " 12           [-1, 6]  1         0  models.common.Concat                    [1]                           \n",
            " 13                -1  2   1182720  models.common.C3                        [768, 384, 2, False]          \n",
            " 14                -1  1     74112  models.common.Conv                      [384, 192, 1, 1]              \n",
            " 15                -1  1         0  torch.nn.modules.upsampling.Upsample    [None, 2, 'nearest']          \n",
            " 16           [-1, 4]  1         0  models.common.Concat                    [1]                           \n",
            " 17                -1  2    296448  models.common.C3                        [384, 192, 2, False]          \n",
            " 18                -1  1    332160  models.common.Conv                      [192, 192, 3, 2]              \n",
            " 19          [-1, 14]  1         0  models.common.Concat                    [1]                           \n",
            " 20                -1  2   1035264  models.common.C3                        [384, 384, 2, False]          \n",
            " 21                -1  1   1327872  models.common.Conv                      [384, 384, 3, 2]              \n",
            " 22          [-1, 10]  1         0  models.common.Concat                    [1]                           \n",
            " 23                -1  2   4134912  models.common.C3                        [768, 768, 2, False]          \n",
            " 24      [17, 20, 23]  1     28287  models.yolo.Detect                      [2, [[10, 13, 16, 30, 33, 23], [30, 61, 62, 45, 59, 119], [116, 90, 156, 198, 373, 326]], [192, 384, 768]]\n",
            "YOLOv5m summary: 291 layers, 20875359 parameters, 20875359 gradients, 48.2 GFLOPs\n",
            "\n",
            "Transferred 57/481 items from yolov5s.pt\n",
            "\u001b[34m\u001b[1moptimizer:\u001b[0m SGD(lr=0.003) with parameter groups 79 weight(decay=0.0), 82 weight(decay=0.0005), 82 bias\n",
            "\u001b[34m\u001b[1malbumentations: \u001b[0mBlur(p=0.01, blur_limit=(3, 7)), MedianBlur(p=0.01, blur_limit=(3, 7)), ToGray(p=0.01), CLAHE(p=0.01, clip_limit=(1, 4.0), tile_grid_size=(8, 8))\n",
            "\u001b[34m\u001b[1mtrain: \u001b[0mScanning /content/data/labels/train... 2 images, 0 backgrounds, 0 corrupt: 100% 2/2 [00:00<00:00, 61.27it/s]\n",
            "\u001b[34m\u001b[1mtrain: \u001b[0mNew cache created: /content/data/labels/train.cache\n",
            "\u001b[34m\u001b[1mval: \u001b[0mScanning /content/data/labels/valid... 2 images, 0 backgrounds, 0 corrupt: 100% 2/2 [00:00<00:00, 16.95it/s]\n",
            "\u001b[34m\u001b[1mval: \u001b[0mNew cache created: /content/data/labels/valid.cache\n",
            "\n",
            "\u001b[34m\u001b[1mAutoAnchor: \u001b[0m2.00 anchors/target, 1.000 Best Possible Recall (BPR). Current anchors are a good fit to dataset ✅\n",
            "Plotting labels to runs/train/exp/labels.jpg... \n",
            "Image sizes 640 train, 640 val\n",
            "Using 2 dataloader workers\n",
            "Logging results to \u001b[1mruns/train/exp\u001b[0m\n",
            "Starting training for 10 epochs...\n",
            "\n",
            "      Epoch    GPU_mem   box_loss   obj_loss   cls_loss  Instances       Size\n",
            "        0/9         0G    0.07693    0.03095    0.01886          8        640: 100% 1/1 [00:17<00:00, 17.43s/it]\n",
            "                 Class     Images  Instances          P          R      mAP50   mAP50-95: 100% 1/1 [00:02<00:00,  2.54s/it]\n",
            "                   all          2          4          0          0          0          0\n",
            "\n",
            "      Epoch    GPU_mem   box_loss   obj_loss   cls_loss  Instances       Size\n",
            "        1/9         0G    0.07628    0.04142    0.01939         12        640: 100% 1/1 [00:08<00:00,  8.19s/it]\n",
            "                 Class     Images  Instances          P          R      mAP50   mAP50-95: 100% 1/1 [00:02<00:00,  2.55s/it]\n",
            "                   all          2          4          0          0          0          0\n",
            "\n",
            "      Epoch    GPU_mem   box_loss   obj_loss   cls_loss  Instances       Size\n",
            "        2/9         0G    0.06886    0.03848    0.01859         11        640: 100% 1/1 [00:08<00:00,  8.88s/it]\n",
            "                 Class     Images  Instances          P          R      mAP50   mAP50-95: 100% 1/1 [00:02<00:00,  2.61s/it]\n",
            "                   all          2          4          0          0          0          0\n",
            "\n",
            "      Epoch    GPU_mem   box_loss   obj_loss   cls_loss  Instances       Size\n",
            "        3/9         0G    0.07604     0.0407    0.01741         11        640: 100% 1/1 [00:08<00:00,  8.40s/it]\n",
            "                 Class     Images  Instances          P          R      mAP50   mAP50-95: 100% 1/1 [00:02<00:00,  2.77s/it]\n",
            "                   all          2          4          0          0          0          0\n",
            "\n",
            "      Epoch    GPU_mem   box_loss   obj_loss   cls_loss  Instances       Size\n",
            "        4/9         0G    0.07142    0.04722    0.01842         12        640: 100% 1/1 [00:06<00:00,  6.90s/it]\n",
            "                 Class     Images  Instances          P          R      mAP50   mAP50-95:   0% 0/1 [00:00<?, ?it/s]WARNING ⚠️ NMS time limit 0.600s exceeded\n",
            "                 Class     Images  Instances          P          R      mAP50   mAP50-95: 100% 1/1 [00:04<00:00,  4.09s/it]\n",
            "                   all          2          4          0          0          0          0\n",
            "\n",
            "      Epoch    GPU_mem   box_loss   obj_loss   cls_loss  Instances       Size\n",
            "        5/9         0G    0.07449    0.03384    0.01872          8        640: 100% 1/1 [00:06<00:00,  6.66s/it]\n",
            "                 Class     Images  Instances          P          R      mAP50   mAP50-95:   0% 0/1 [00:00<?, ?it/s]WARNING ⚠️ NMS time limit 0.600s exceeded\n",
            "                 Class     Images  Instances          P          R      mAP50   mAP50-95: 100% 1/1 [00:02<00:00,  2.93s/it]\n",
            "                   all          2          4          0          0          0          0\n",
            "\n",
            "      Epoch    GPU_mem   box_loss   obj_loss   cls_loss  Instances       Size\n",
            "        6/9         0G    0.07642    0.03493    0.02012          9        640: 100% 1/1 [00:06<00:00,  6.70s/it]\n",
            "                 Class     Images  Instances          P          R      mAP50   mAP50-95: 100% 1/1 [00:02<00:00,  2.44s/it]\n",
            "                   all          2          4          0          0          0          0\n",
            "\n",
            "      Epoch    GPU_mem   box_loss   obj_loss   cls_loss  Instances       Size\n",
            "        7/9         0G    0.07675    0.03415    0.01815          9        640: 100% 1/1 [00:07<00:00,  7.29s/it]\n",
            "                 Class     Images  Instances          P          R      mAP50   mAP50-95: 100% 1/1 [00:02<00:00,  2.50s/it]\n",
            "                   all          2          4    0.00735        0.5     0.0133    0.00254\n",
            "\n",
            "      Epoch    GPU_mem   box_loss   obj_loss   cls_loss  Instances       Size\n",
            "        8/9         0G    0.07836    0.03341    0.01952          8        640: 100% 1/1 [00:08<00:00,  8.55s/it]\n",
            "                 Class     Images  Instances          P          R      mAP50   mAP50-95: 100% 1/1 [00:02<00:00,  2.53s/it]\n",
            "                   all          2          4    0.00709        0.5      0.016    0.00321\n",
            "\n",
            "      Epoch    GPU_mem   box_loss   obj_loss   cls_loss  Instances       Size\n",
            "        9/9         0G     0.0359    0.02495   0.009042          5        640: 100% 1/1 [00:08<00:00,  8.78s/it]\n",
            "                 Class     Images  Instances          P          R      mAP50   mAP50-95: 100% 1/1 [00:02<00:00,  2.45s/it]\n",
            "                   all          2          4    0.00714        0.5      0.014    0.00278\n",
            "\n",
            "10 epochs completed in 0.037 hours.\n",
            "Optimizer stripped from runs/train/exp/weights/last.pt, 42.2MB\n",
            "Optimizer stripped from runs/train/exp/weights/best.pt, 42.2MB\n",
            "\n",
            "Validating runs/train/exp/weights/best.pt...\n",
            "Fusing layers... \n",
            "YOLOv5m summary: 212 layers, 20856975 parameters, 0 gradients, 47.9 GFLOPs\n",
            "                 Class     Images  Instances          P          R      mAP50   mAP50-95: 100% 1/1 [00:02<00:00,  2.47s/it]\n",
            "                   all          2          4    0.00719        0.5     0.0153    0.00273\n",
            "                  left          2          2          0          0          0          0\n",
            "                 right          2          2     0.0144          1     0.0306    0.00546\n",
            "Results saved to \u001b[1mruns/train/exp\u001b[0m\n",
            "\u001b[34m\u001b[1mwandb\u001b[0m: Waiting for W&B process to finish... \u001b[32m(success).\u001b[0m\n",
            "\u001b[34m\u001b[1mwandb\u001b[0m: \n",
            "\u001b[34m\u001b[1mwandb\u001b[0m: Run history:\n",
            "\u001b[34m\u001b[1mwandb\u001b[0m:      metrics/mAP_0.5 ▁▁▁▁▁▁▁▇█▇█\n",
            "\u001b[34m\u001b[1mwandb\u001b[0m: metrics/mAP_0.5:0.95 ▁▁▁▁▁▁▁▇█▇▇\n",
            "\u001b[34m\u001b[1mwandb\u001b[0m:    metrics/precision ▁▁▁▁▁▁▁████\n",
            "\u001b[34m\u001b[1mwandb\u001b[0m:       metrics/recall ▁▁▁▁▁▁▁████\n",
            "\u001b[34m\u001b[1mwandb\u001b[0m:       train/box_loss ██▆█▇▇███▁\n",
            "\u001b[34m\u001b[1mwandb\u001b[0m:       train/cls_loss ▇█▇▆▇▇█▇█▁\n",
            "\u001b[34m\u001b[1mwandb\u001b[0m:       train/obj_loss ▃▆▅▆█▄▄▄▄▁\n",
            "\u001b[34m\u001b[1mwandb\u001b[0m:         val/box_loss █▇▆▅▅▄▃▃▂▁▂\n",
            "\u001b[34m\u001b[1mwandb\u001b[0m:         val/cls_loss ▁▄▅▅▆▆▇▇███\n",
            "\u001b[34m\u001b[1mwandb\u001b[0m:         val/obj_loss ▁▅▆▆▆▆▇▇██▇\n",
            "\u001b[34m\u001b[1mwandb\u001b[0m:                x/lr0 █▇▆▆▅▄▃▃▂▁\n",
            "\u001b[34m\u001b[1mwandb\u001b[0m:                x/lr1 ▁▃▅▇███▇▆▄\n",
            "\u001b[34m\u001b[1mwandb\u001b[0m:                x/lr2 ▁▃▅▇███▇▆▄\n",
            "\u001b[34m\u001b[1mwandb\u001b[0m: \n",
            "\u001b[34m\u001b[1mwandb\u001b[0m: Run summary:\n",
            "\u001b[34m\u001b[1mwandb\u001b[0m:           best/epoch 8\n",
            "\u001b[34m\u001b[1mwandb\u001b[0m:         best/mAP_0.5 0.01605\n",
            "\u001b[34m\u001b[1mwandb\u001b[0m:    best/mAP_0.5:0.95 0.00321\n",
            "\u001b[34m\u001b[1mwandb\u001b[0m:       best/precision 0.00709\n",
            "\u001b[34m\u001b[1mwandb\u001b[0m:          best/recall 0.5\n",
            "\u001b[34m\u001b[1mwandb\u001b[0m:      metrics/mAP_0.5 0.01531\n",
            "\u001b[34m\u001b[1mwandb\u001b[0m: metrics/mAP_0.5:0.95 0.00273\n",
            "\u001b[34m\u001b[1mwandb\u001b[0m:    metrics/precision 0.00719\n",
            "\u001b[34m\u001b[1mwandb\u001b[0m:       metrics/recall 0.5\n",
            "\u001b[34m\u001b[1mwandb\u001b[0m:       train/box_loss 0.0359\n",
            "\u001b[34m\u001b[1mwandb\u001b[0m:       train/cls_loss 0.00904\n",
            "\u001b[34m\u001b[1mwandb\u001b[0m:       train/obj_loss 0.02495\n",
            "\u001b[34m\u001b[1mwandb\u001b[0m:         val/box_loss 0.03218\n",
            "\u001b[34m\u001b[1mwandb\u001b[0m:         val/cls_loss 0.00909\n",
            "\u001b[34m\u001b[1mwandb\u001b[0m:         val/obj_loss 0.02282\n",
            "\u001b[34m\u001b[1mwandb\u001b[0m:                x/lr0 0.09103\n",
            "\u001b[34m\u001b[1mwandb\u001b[0m:                x/lr1 3e-05\n",
            "\u001b[34m\u001b[1mwandb\u001b[0m:                x/lr2 3e-05\n",
            "\u001b[34m\u001b[1mwandb\u001b[0m: \n",
            "\u001b[34m\u001b[1mwandb\u001b[0m: 🚀 View run \u001b[33mapricot-resonance-6\u001b[0m at: \u001b[34m\u001b[4mhttps://wandb.ai/2070044/YOLOv5/runs/oglw7vup\u001b[0m\n",
            "\u001b[34m\u001b[1mwandb\u001b[0m: ️⚡ View job at \u001b[34m\u001b[4mhttps://wandb.ai/2070044/YOLOv5/jobs/QXJ0aWZhY3RDb2xsZWN0aW9uOjExMjAwODIzMg==/version_details/v2\u001b[0m\n",
            "\u001b[34m\u001b[1mwandb\u001b[0m: Synced 5 W&B file(s), 10 media file(s), 3 artifact file(s) and 0 other file(s)\n",
            "\u001b[34m\u001b[1mwandb\u001b[0m: Find logs at: \u001b[35m\u001b[1m./wandb/run-20231102_134318-oglw7vup/logs\u001b[0m\n",
            "\u001b[34m\u001b[1mwandb\u001b[0m: WARNING ⚠️ wandb is deprecated and will be removed in a future release. See supported integrations at https://github.com/ultralytics/yolov5#integrations.\n"
          ]
        }
      ]
    },
    {
      "cell_type": "markdown",
      "source": [
        "### test"
      ],
      "metadata": {
        "id": "DlMzMDV8L1lk"
      }
    },
    {
      "cell_type": "code",
      "source": [
        "# test를 실행하고 출력된 mAP 값 확인하기\n",
        "!python val.py --task \"test\" --data {data_yaml} --weights runs/train/exp/weights/best.pt --save-txt"
      ],
      "metadata": {
        "colab": {
          "base_uri": "https://localhost:8080/"
        },
        "id": "_ojAmSaJEo1S",
        "outputId": "75f2a6ba-16c5-42b7-d558-330455dd2b43"
      },
      "execution_count": 9,
      "outputs": [
        {
          "output_type": "stream",
          "name": "stdout",
          "text": [
            "\u001b[34m\u001b[1mval: \u001b[0mdata=HAND-2/data.yaml, weights=['runs/train/exp/weights/best.pt'], batch_size=32, imgsz=640, conf_thres=0.001, iou_thres=0.6, max_det=300, task=test, device=, workers=8, single_cls=False, augment=False, verbose=False, save_txt=True, save_hybrid=False, save_conf=False, save_json=False, project=runs/val, name=exp, exist_ok=False, half=False, dnn=False\n",
            "YOLOv5 🚀 v7.0-232-g1c60c53 Python-3.10.12 torch-2.1.0+cu118 CPU\n",
            "\n",
            "Fusing layers... \n",
            "YOLOv5m summary: 212 layers, 20856975 parameters, 0 gradients, 47.9 GFLOPs\n",
            "\u001b[34m\u001b[1mtest: \u001b[0mScanning /content/data/labels/test... 1 images, 0 backgrounds, 0 corrupt: 100% 1/1 [00:00<00:00, 74.81it/s]\n",
            "\u001b[34m\u001b[1mtest: \u001b[0mNew cache created: /content/data/labels/test.cache\n",
            "                 Class     Images  Instances          P          R      mAP50   mAP50-95: 100% 1/1 [00:01<00:00,  1.34s/it]\n",
            "                   all          1          2    0.00694        0.5     0.0124    0.00124\n",
            "                  left          1          1          0          0          0          0\n",
            "                 right          1          1     0.0139          1     0.0249    0.00249\n",
            "Speed: 2.8ms pre-process, 1055.5ms inference, 226.0ms NMS per image at shape (32, 3, 640, 640)\n",
            "Results saved to \u001b[1mruns/val/exp\u001b[0m\n",
            "1 labels saved to runs/val/exp/labels\n"
          ]
        }
      ]
    },
    {
      "cell_type": "code",
      "source": [
        "# 테스트 결과 이미지 확인하기\n",
        "import glob\n",
        "from IPython.display import Image, display\n",
        "\n",
        "for imageName in glob.glob('/content/yolov5/runs/val/exp/*.jpg'): #assuming JPG\n",
        "    display(Image(filename=imageName))\n",
        "    print(\"\\n\")"
      ],
      "metadata": {
        "colab": {
          "base_uri": "https://localhost:8080/",
          "height": 1000
        },
        "id": "bTz2XkMsEuwr",
        "outputId": "105c749a-b93b-4098-85cd-06868ee736a3"
      },
      "execution_count": 12,
      "outputs": [
        {
          "output_type": "display_data",
          "data": {
            "image/jpeg": "[encoded data removed]",
            "text/plain": [
              "<IPython.core.display.Image object>"
            ]
          },
          "metadata": {}
        },
        {
          "output_type": "stream",
          "name": "stdout",
          "text": [
            "\n",
            "\n"
          ]
        },
        {
          "output_type": "display_data",
          "data": {
            "image/jpeg": "[encoded data removed]",
            "text/plain": [
              "<IPython.core.display.Image object>"
            ]
          },
          "metadata": {}
        },
        {
          "output_type": "stream",
          "name": "stdout",
          "text": [
            "\n",
            "\n"
          ]
        }
      ]
    }
  ]
}