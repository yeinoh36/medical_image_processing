{
 "cells": [
  {
   "cell_type": "code",
   "execution_count": 1,
   "id": "98982d1d",
   "metadata": {
    "id": "463a598c"
   },
   "outputs": [],
   "source": [
    "import tensorflow as tf\n",
    "from tensorflow import keras\n",
    "from tensorflow.keras import layers\n",
    "import matplotlib.pyplot as plt\n",
    "import numpy as np\n",
    "import os\n",
    "import cv2\n",
    "#import gdown\n",
    "from zipfile import ZipFile\n",
    "from tensorflow.keras.preprocessing.image import ImageDataGenerator"
   ]
  },
  {
   "cell_type": "code",
   "execution_count": 1,
   "id": "e8b66a58",
   "metadata": {
    "id": "d9ded181"
   },
   "outputs": [],
   "source": []
  },
  {
   "cell_type": "markdown",
   "id": "17205d0d",
   "metadata": {
    "id": "e5211ba8"
   },
   "source": [
    "# Data Augmentation : Flipping"
   ]
  },
  {
   "cell_type": "raw",
   "id": "f37a46ed",
   "metadata": {
    "id": "e412c235",
    "outputId": "351e6ea1-de8f-46f6-c880-fd2edd27d674"
   },
   "source": [
    "from PIL import Image\n",
    "import numpy as np\n",
    "import os\n",
    "\n",
    "# 가로로 플립하는 함수\n",
    "def flip_image(image_path, save_path):\n",
    "    image = Image.open(image_path)\n",
    "    flipped_image = image.transpose(Image.FLIP_LEFT_RIGHT)\n",
    "    flipped_image.save(save_path)\n",
    "\n",
    "# 이미지가 저장된 디렉토리\n",
    "input_directory = \"./dataset2/controls\"\n",
    "\n",
    "# 플립된 이미지를 저장할 디렉토리\n",
    "output_directory = \"./dataset2/controls\"\n",
    "\n",
    "# 디렉토리가 없다면 생성\n",
    "os.makedirs(output_directory, exist_ok=True)\n",
    "\n",
    "# 디렉토리 내의 각 이미지에 대해 플립 적용 및 저장\n",
    "for filename in os.listdir(input_directory):\n",
    "    if filename.endswith(\".jpg\"):  # 혹은 다른 이미지 형식\n",
    "        image_path = os.path.join(input_directory, filename)\n",
    "        save_path = os.path.join(output_directory, \"flipped_\" + filename)\n",
    "        flip_image(image_path, save_path)\n",
    "\n",
    "print(\"플립된 이미지가 성공적으로 저장되었습니다.\")\n"
   ]
  },
  {
   "cell_type": "raw",
   "id": "68a1fcad",
   "metadata": {
    "id": "af535613"
   },
   "source": [
    "from PIL import Image\n",
    "import numpy as np\n",
    "import os\n",
    "\n",
    "# 가로로 플립하는 함수\n",
    "def flip_image(image_path, save_path):\n",
    "    image = Image.open(image_path)\n",
    "    flipped_image = image.transpose(Image.FLIP_LEFT_RIGHT)\n",
    "    flipped_image.save(save_path)\n",
    "\n",
    "# 이미지가 저장된 디렉토리\n",
    "input_directory = \"./dataset2/patients\"\n",
    "\n",
    "# 플립된 이미지를 저장할 디렉토리\n",
    "output_directory = \"./dataset2/patients\"\n",
    "\n",
    "# 디렉토리가 없다면 생성\n",
    "os.makedirs(output_directory, exist_ok=True)\n",
    "\n",
    "# 디렉토리 내의 각 이미지에 대해 플립 적용 및 저장\n",
    "for filename in os.listdir(input_directory):\n",
    "    if filename.endswith(\".png\"):  # 혹은 다른 이미지 형식\n",
    "        image_path = os.path.join(input_directory, filename)\n",
    "        save_path = os.path.join(output_directory, \"flipped_\" + filename)\n",
    "        flip_image(image_path, save_path)\n",
    "\n",
    "print(\"플립된 이미지가 성공적으로 저장되었습니다.\")\n"
   ]
  },
  {
   "cell_type": "markdown",
   "id": "97f3ec39",
   "metadata": {
    "id": "fc410153"
   },
   "source": [
    "# Data Augmentation : Noise"
   ]
  },
  {
   "cell_type": "raw",
   "id": "cbcdcceb",
   "metadata": {
    "id": "a68027b7",
    "outputId": "99d71d87-fbbf-4221-d5b8-312941eabb4c"
   },
   "source": [
    "from PIL import Image, ImageFilter\n",
    "import numpy as np\n",
    "import os\n",
    "\n",
    "# 이미지에 노이즈를 추가하는 함수\n",
    "def add_noise(image_path, save_path, noise_factor=0.5):\n",
    "    image = Image.open(image_path)\n",
    "\n",
    "    # 이미지 크기를 가져오고 노이즈를 생성\n",
    "    width, height = image.size\n",
    "    channels = len(image.getbands())\n",
    "    noise = np.random.normal(scale=noise_factor, size=(height, width, channels))\n",
    "\n",
    "    # 노이즈를 이미지에 더하고 값을 0과 255 사이로 클리핑\n",
    "    noisy_image = np.clip(np.array(image) + noise * 255, 0, 255).astype(np.uint8)\n",
    "\n",
    "    # 노이즈가 추가된 이미지를 저장\n",
    "    Image.fromarray(noisy_image).save(save_path)\n",
    "\n",
    "# 이미지가 저장된 디렉토리\n",
    "input_directory = \"./dataset2/controls\"\n",
    "\n",
    "# 노이즈가 추가된 이미지를 저장할 디렉토리\n",
    "output_directory = \"./dataset2/controls\"\n",
    "\n",
    "# 디렉토리가 없다면 생성\n",
    "os.makedirs(output_directory, exist_ok=True)\n",
    "\n",
    "# 디렉토리 내의 각 이미지에 대해 노이즈를 추가하고 저장\n",
    "for filename in os.listdir(input_directory):\n",
    "    if filename.endswith(\".jpg\"):  # 혹은 다른 이미지 형식\n",
    "        image_path = os.path.join(input_directory, filename)\n",
    "        save_path = os.path.join(output_directory, \"noisy_\" + filename)\n",
    "        add_noise(image_path, save_path)\n",
    "\n",
    "print(\"노이즈가 추가된 이미지가 성공적으로 저장되었습니다.\")\n"
   ]
  },
  {
   "cell_type": "raw",
   "id": "50c57dc1",
   "metadata": {
    "id": "8f999b22"
   },
   "source": [
    "from PIL import Image, ImageFilter\n",
    "import numpy as np\n",
    "import os\n",
    "\n",
    "# 이미지에 노이즈를 추가하는 함수\n",
    "def add_noise(image_path, save_path, noise_factor=0.5):\n",
    "    image = Image.open(image_path)\n",
    "\n",
    "    # 이미지 크기를 가져오고 노이즈를 생성\n",
    "    width, height = image.size\n",
    "    channels = len(image.getbands())\n",
    "    noise = np.random.normal(scale=noise_factor, size=(height, width, channels))\n",
    "\n",
    "    # 노이즈를 이미지에 더하고 값을 0과 255 사이로 클리핑\n",
    "    noisy_image = np.clip(np.array(image) + noise * 255, 0, 255).astype(np.uint8)\n",
    "\n",
    "    # 노이즈가 추가된 이미지를 저장\n",
    "    Image.fromarray(noisy_image).save(save_path)\n",
    "\n",
    "# 이미지가 저장된 디렉토리\n",
    "input_directory = \"./dataset2/patients\"\n",
    "\n",
    "# 노이즈가 추가된 이미지를 저장할 디렉토리\n",
    "output_directory = \"./dataset2/patients\"\n",
    "\n",
    "# 디렉토리가 없다면 생성\n",
    "os.makedirs(output_directory, exist_ok=True)\n",
    "\n",
    "# 디렉토리 내의 각 이미지에 대해 노이즈를 추가하고 저장\n",
    "for filename in os.listdir(input_directory):\n",
    "    if filename.endswith(\".png\"):  # 혹은 다른 이미지 형식\n",
    "        image_path = os.path.join(input_directory, filename)\n",
    "        save_path = os.path.join(output_directory, \"noisy_\" + filename)\n",
    "        add_noise(image_path, save_path)\n",
    "\n",
    "print(\"노이즈가 추가된 이미지가 성공적으로 저장되었습니다.\")\n"
   ]
  },
  {
   "cell_type": "code",
   "execution_count": null,
   "id": "9cb48c07",
   "metadata": {
    "id": "dd8ab604"
   },
   "outputs": [],
   "source": []
  },
  {
   "cell_type": "markdown",
   "id": "a45057f1",
   "metadata": {
    "id": "823e254f"
   },
   "source": [
    "# Train / Test dataset 만들기"
   ]
  },
  {
   "cell_type": "code",
   "execution_count": 2,
   "id": "d5b7d418",
   "metadata": {
    "colab": {
     "base_uri": "https://localhost:8080/"
    },
    "id": "DUlvperSED8C",
    "outputId": "6a273dd1-8e01-4301-943e-81d4da1435c5"
   },
   "outputs": [
    {
     "name": "stdout",
     "output_type": "stream",
     "text": [
      "Mounted at /content/drive\n"
     ]
    }
   ],
   "source": [
    "#colab에 googld drive 연결\n",
    "from google.colab import drive\n",
    "drive.mount('/content/drive')"
   ]
  },
  {
   "cell_type": "code",
   "execution_count": 3,
   "id": "860cc8b2",
   "metadata": {
    "colab": {
     "base_uri": "https://localhost:8080/"
    },
    "id": "627fd878",
    "outputId": "91d15d9b-744a-48e8-d663-b5a8b01fd062"
   },
   "outputs": [
    {
     "name": "stdout",
     "output_type": "stream",
     "text": [
      "Found 708 files belonging to 2 classes.\n"
     ]
    }
   ],
   "source": [
    "dataset = keras.utils.image_dataset_from_directory(\n",
    "    \"/content/drive/MyDrive/의학영상처리/dataset2\", labels=\"inferred\", label_mode=\"binary\", image_size=(120, 160), batch_size=128, class_names=[\"controls\", \"patients\"]\n",
    ")"
   ]
  },
  {
   "cell_type": "code",
   "execution_count": 4,
   "id": "f2b639f1",
   "metadata": {
    "colab": {
     "base_uri": "https://localhost:8080/"
    },
    "id": "fa290bb0",
    "outputId": "8850c3f8-81c0-453a-a87a-35e10fcb7409"
   },
   "outputs": [
    {
     "data": {
      "text/plain": [
       "<_PrefetchDataset element_spec=(TensorSpec(shape=(None, 120, 160, 3), dtype=tf.float32, name=None), TensorSpec(shape=(None, 1), dtype=tf.float32, name=None))>"
      ]
     },
     "execution_count": 4,
     "metadata": {},
     "output_type": "execute_result"
    }
   ],
   "source": [
    "dataset"
   ]
  },
  {
   "cell_type": "code",
   "execution_count": 5,
   "id": "57847a26",
   "metadata": {
    "id": "3e36f6a0"
   },
   "outputs": [],
   "source": [
    "def normalize_images(image, label):\n",
    "    return image / 255.0, label\n",
    "\n",
    "dataset = dataset.map(normalize_images)"
   ]
  },
  {
   "cell_type": "code",
   "execution_count": 6,
   "id": "73e3b727",
   "metadata": {
    "colab": {
     "base_uri": "https://localhost:8080/"
    },
    "id": "06d5f71d",
    "outputId": "7f720b7d-ea14-4a86-f4dc-feec23b0b2be"
   },
   "outputs": [
    {
     "data": {
      "text/plain": [
       "<_MapDataset element_spec=(TensorSpec(shape=(None, 120, 160, 3), dtype=tf.float32, name=None), TensorSpec(shape=(None, 1), dtype=tf.float32, name=None))>"
      ]
     },
     "execution_count": 6,
     "metadata": {},
     "output_type": "execute_result"
    }
   ],
   "source": [
    "dataset"
   ]
  },
  {
   "cell_type": "code",
   "execution_count": 7,
   "id": "33d32641",
   "metadata": {
    "colab": {
     "base_uri": "https://localhost:8080/"
    },
    "id": "43d9cf5f",
    "outputId": "07f48005-ebcd-4610-d3b3-3094bc5e751d",
    "scrolled": true
   },
   "outputs": [
    {
     "name": "stdout",
     "output_type": "stream",
     "text": [
      "Train dataset: 4\n",
      "Test dataset: 2\n"
     ]
    }
   ],
   "source": [
    "dataset_size = len(dataset)\n",
    "\n",
    "# train 데이터셋 크기 계산\n",
    "train_size = int(0.8 * dataset_size)\n",
    "\n",
    "# 데이터셋을 나누기\n",
    "train_dataset = dataset.take(train_size)\n",
    "test_dataset = dataset.skip(train_size)\n",
    "\n",
    "# 나눠진 데이터셋을 확인\n",
    "print(\"Train dataset:\", len(train_dataset))\n",
    "print(\"Test dataset:\", len(test_dataset))"
   ]
  },
  {
   "cell_type": "code",
   "execution_count": 8,
   "id": "cdcd2bc9",
   "metadata": {
    "colab": {
     "base_uri": "https://localhost:8080/"
    },
    "id": "786c695e",
    "outputId": "e002d9e5-cedf-4b41-ea3c-93ee7fa546e5"
   },
   "outputs": [
    {
     "data": {
      "text/plain": [
       "<_TakeDataset element_spec=(TensorSpec(shape=(None, 120, 160, 3), dtype=tf.float32, name=None), TensorSpec(shape=(None, 1), dtype=tf.float32, name=None))>"
      ]
     },
     "execution_count": 8,
     "metadata": {},
     "output_type": "execute_result"
    }
   ],
   "source": [
    "train_dataset"
   ]
  },
  {
   "cell_type": "code",
   "execution_count": 9,
   "id": "58522552",
   "metadata": {
    "colab": {
     "base_uri": "https://localhost:8080/"
    },
    "id": "a28dbfcc",
    "outputId": "247162e8-d5d8-4402-e629-e683cd0defe1"
   },
   "outputs": [
    {
     "data": {
      "text/plain": [
       "<_SkipDataset element_spec=(TensorSpec(shape=(None, 120, 160, 3), dtype=tf.float32, name=None), TensorSpec(shape=(None, 1), dtype=tf.float32, name=None))>"
      ]
     },
     "execution_count": 9,
     "metadata": {},
     "output_type": "execute_result"
    }
   ],
   "source": [
    "test_dataset"
   ]
  },
  {
   "cell_type": "markdown",
   "id": "58b11fd4",
   "metadata": {
    "id": "0952d8e8"
   },
   "source": [
    "# CNN Modeling"
   ]
  },
  {
   "cell_type": "code",
   "execution_count": 10,
   "id": "93a6b787",
   "metadata": {
    "colab": {
     "base_uri": "https://localhost:8080/"
    },
    "id": "de3a24dd",
    "outputId": "6be523ad-3fa5-462f-edd1-91c248556d5c",
    "scrolled": false
   },
   "outputs": [
    {
     "name": "stdout",
     "output_type": "stream",
     "text": [
      "Epoch 1/100\n",
      "4/4 [==============================] - 80s 421ms/step - loss: 0.7041 - accuracy: 0.4902\n",
      "Epoch 2/100\n",
      "4/4 [==============================] - 11s 441ms/step - loss: 0.7070 - accuracy: 0.4609\n",
      "Epoch 3/100\n",
      "4/4 [==============================] - 10s 403ms/step - loss: 0.6975 - accuracy: 0.4941\n",
      "Epoch 4/100\n",
      "4/4 [==============================] - 9s 707ms/step - loss: 0.6936 - accuracy: 0.5547\n",
      "Epoch 5/100\n",
      "4/4 [==============================] - 9s 417ms/step - loss: 0.6966 - accuracy: 0.4844\n",
      "Epoch 6/100\n",
      "4/4 [==============================] - 10s 699ms/step - loss: 0.6914 - accuracy: 0.5215\n",
      "Epoch 7/100\n",
      "4/4 [==============================] - 8s 404ms/step - loss: 0.7033 - accuracy: 0.4609\n",
      "Epoch 8/100\n",
      "4/4 [==============================] - 11s 399ms/step - loss: 0.6974 - accuracy: 0.5039\n",
      "Epoch 9/100\n",
      "4/4 [==============================] - 9s 405ms/step - loss: 0.6927 - accuracy: 0.5156\n",
      "Epoch 10/100\n",
      "4/4 [==============================] - 10s 688ms/step - loss: 0.6949 - accuracy: 0.5195\n",
      "Epoch 11/100\n",
      "4/4 [==============================] - 8s 401ms/step - loss: 0.6939 - accuracy: 0.5215\n",
      "Epoch 12/100\n",
      "4/4 [==============================] - 11s 402ms/step - loss: 0.6921 - accuracy: 0.5176\n",
      "Epoch 13/100\n",
      "4/4 [==============================] - 8s 391ms/step - loss: 0.6951 - accuracy: 0.5039\n",
      "Epoch 14/100\n",
      "4/4 [==============================] - 9s 397ms/step - loss: 0.6936 - accuracy: 0.5059\n",
      "Epoch 15/100\n",
      "4/4 [==============================] - 11s 584ms/step - loss: 0.6945 - accuracy: 0.4941\n",
      "Epoch 16/100\n",
      "4/4 [==============================] - 11s 397ms/step - loss: 0.6921 - accuracy: 0.5059\n",
      "Epoch 17/100\n",
      "4/4 [==============================] - 8s 632ms/step - loss: 0.6940 - accuracy: 0.5000\n",
      "Epoch 18/100\n",
      "4/4 [==============================] - 9s 398ms/step - loss: 0.6945 - accuracy: 0.4863\n",
      "Epoch 19/100\n",
      "4/4 [==============================] - 11s 420ms/step - loss: 0.6939 - accuracy: 0.5000\n",
      "Epoch 20/100\n",
      "4/4 [==============================] - 8s 407ms/step - loss: 0.6939 - accuracy: 0.5039\n",
      "Epoch 21/100\n",
      "4/4 [==============================] - 11s 390ms/step - loss: 0.6922 - accuracy: 0.5039\n",
      "Epoch 22/100\n",
      "4/4 [==============================] - 9s 390ms/step - loss: 0.6937 - accuracy: 0.4961\n",
      "Epoch 23/100\n",
      "4/4 [==============================] - 10s 657ms/step - loss: 0.6936 - accuracy: 0.4727\n",
      "Epoch 24/100\n",
      "4/4 [==============================] - 8s 397ms/step - loss: 0.6915 - accuracy: 0.5293\n",
      "Epoch 25/100\n",
      "4/4 [==============================] - 11s 397ms/step - loss: 0.6936 - accuracy: 0.4902\n",
      "Epoch 26/100\n",
      "4/4 [==============================] - 8s 397ms/step - loss: 0.6937 - accuracy: 0.5020\n",
      "Epoch 27/100\n",
      "4/4 [==============================] - 11s 398ms/step - loss: 0.6932 - accuracy: 0.5059\n",
      "Epoch 28/100\n",
      "4/4 [==============================] - 9s 398ms/step - loss: 0.6924 - accuracy: 0.4941\n",
      "Epoch 29/100\n",
      "4/4 [==============================] - 10s 633ms/step - loss: 0.6948 - accuracy: 0.4922\n",
      "Epoch 30/100\n",
      "4/4 [==============================] - 10s 1s/step - loss: 0.6933 - accuracy: 0.5078\n",
      "Epoch 31/100\n",
      "4/4 [==============================] - 12s 698ms/step - loss: 0.6925 - accuracy: 0.5078\n",
      "Epoch 32/100\n",
      "4/4 [==============================] - 11s 460ms/step - loss: 0.6923 - accuracy: 0.5332\n",
      "Epoch 33/100\n",
      "4/4 [==============================] - 8s 400ms/step - loss: 0.6915 - accuracy: 0.5137\n",
      "Epoch 34/100\n",
      "4/4 [==============================] - 10s 407ms/step - loss: 0.6939 - accuracy: 0.4707\n",
      "Epoch 35/100\n",
      "4/4 [==============================] - 10s 687ms/step - loss: 0.6937 - accuracy: 0.4863\n",
      "Epoch 36/100\n",
      "4/4 [==============================] - 9s 415ms/step - loss: 0.6919 - accuracy: 0.5078\n",
      "Epoch 37/100\n",
      "4/4 [==============================] - 11s 637ms/step - loss: 0.6918 - accuracy: 0.5059\n",
      "Epoch 38/100\n",
      "4/4 [==============================] - 8s 406ms/step - loss: 0.6947 - accuracy: 0.5117\n",
      "Epoch 39/100\n",
      "4/4 [==============================] - 11s 401ms/step - loss: 0.6916 - accuracy: 0.5371\n",
      "Epoch 40/100\n",
      "4/4 [==============================] - 10s 407ms/step - loss: 0.6904 - accuracy: 0.5156\n",
      "Epoch 41/100\n",
      "4/4 [==============================] - 10s 678ms/step - loss: 0.6920 - accuracy: 0.5156\n",
      "Epoch 42/100\n",
      "4/4 [==============================] - 9s 402ms/step - loss: 0.6918 - accuracy: 0.5273\n",
      "Epoch 43/100\n",
      "4/4 [==============================] - 10s 668ms/step - loss: 0.6913 - accuracy: 0.5352\n",
      "Epoch 44/100\n",
      "4/4 [==============================] - 8s 405ms/step - loss: 0.6935 - accuracy: 0.5059\n",
      "Epoch 45/100\n",
      "4/4 [==============================] - 11s 485ms/step - loss: 0.6941 - accuracy: 0.5039\n",
      "Epoch 46/100\n",
      "4/4 [==============================] - 8s 401ms/step - loss: 0.6895 - accuracy: 0.5547\n",
      "Epoch 47/100\n",
      "4/4 [==============================] - 11s 409ms/step - loss: 0.6944 - accuracy: 0.4922\n",
      "Epoch 48/100\n",
      "4/4 [==============================] - 9s 408ms/step - loss: 0.6888 - accuracy: 0.5469\n",
      "Epoch 49/100\n",
      "4/4 [==============================] - 10s 663ms/step - loss: 0.6911 - accuracy: 0.5234\n",
      "Epoch 50/100\n",
      "4/4 [==============================] - 9s 404ms/step - loss: 0.6895 - accuracy: 0.5430\n",
      "Epoch 51/100\n",
      "4/4 [==============================] - 11s 401ms/step - loss: 0.6888 - accuracy: 0.5391\n",
      "Epoch 52/100\n",
      "4/4 [==============================] - 13s 678ms/step - loss: 0.6881 - accuracy: 0.5488\n",
      "Epoch 53/100\n",
      "4/4 [==============================] - 9s 402ms/step - loss: 0.6909 - accuracy: 0.5332\n",
      "Epoch 54/100\n",
      "4/4 [==============================] - 10s 681ms/step - loss: 0.6895 - accuracy: 0.5293\n",
      "Epoch 55/100\n",
      "4/4 [==============================] - 11s 405ms/step - loss: 0.6897 - accuracy: 0.5195\n",
      "Epoch 56/100\n",
      "4/4 [==============================] - 9s 404ms/step - loss: 0.6852 - accuracy: 0.5273\n",
      "Epoch 57/100\n",
      "4/4 [==============================] - 11s 513ms/step - loss: 0.6895 - accuracy: 0.5176\n",
      "Epoch 58/100\n",
      "4/4 [==============================] - 11s 410ms/step - loss: 0.6815 - accuracy: 0.5586\n",
      "Epoch 59/100\n",
      "4/4 [==============================] - 9s 410ms/step - loss: 0.6796 - accuracy: 0.5820\n",
      "Epoch 60/100\n",
      "4/4 [==============================] - 11s 682ms/step - loss: 0.6784 - accuracy: 0.5684\n",
      "Epoch 61/100\n",
      "4/4 [==============================] - 8s 402ms/step - loss: 0.6721 - accuracy: 0.6016\n",
      "Epoch 62/100\n",
      "4/4 [==============================] - 11s 408ms/step - loss: 0.6691 - accuracy: 0.6191\n",
      "Epoch 63/100\n",
      "4/4 [==============================] - 9s 658ms/step - loss: 0.6657 - accuracy: 0.5840\n",
      "Epoch 64/100\n",
      "4/4 [==============================] - 10s 407ms/step - loss: 0.6669 - accuracy: 0.6035\n",
      "Epoch 65/100\n",
      "4/4 [==============================] - 10s 664ms/step - loss: 0.6570 - accuracy: 0.6055\n",
      "Epoch 66/100\n",
      "4/4 [==============================] - 8s 410ms/step - loss: 0.6507 - accuracy: 0.6348\n",
      "Epoch 67/100\n",
      "4/4 [==============================] - 11s 402ms/step - loss: 0.6445 - accuracy: 0.6348\n",
      "Epoch 68/100\n",
      "4/4 [==============================] - 9s 416ms/step - loss: 0.6051 - accuracy: 0.6855\n",
      "Epoch 69/100\n",
      "4/4 [==============================] - 10s 698ms/step - loss: 0.6101 - accuracy: 0.6543\n",
      "Epoch 70/100\n",
      "4/4 [==============================] - 8s 405ms/step - loss: 0.5906 - accuracy: 0.7285\n",
      "Epoch 71/100\n",
      "4/4 [==============================] - 11s 567ms/step - loss: 0.5714 - accuracy: 0.7324\n",
      "Epoch 72/100\n",
      "4/4 [==============================] - 8s 415ms/step - loss: 0.5463 - accuracy: 0.7344\n",
      "Epoch 73/100\n",
      "4/4 [==============================] - 11s 410ms/step - loss: 0.5261 - accuracy: 0.7578\n",
      "Epoch 74/100\n",
      "4/4 [==============================] - 10s 406ms/step - loss: 0.4972 - accuracy: 0.7637\n",
      "Epoch 75/100\n",
      "4/4 [==============================] - 10s 674ms/step - loss: 0.4735 - accuracy: 0.7715\n",
      "Epoch 76/100\n",
      "4/4 [==============================] - 8s 407ms/step - loss: 0.5174 - accuracy: 0.7305\n",
      "Epoch 77/100\n",
      "4/4 [==============================] - 11s 397ms/step - loss: 0.4777 - accuracy: 0.7715\n",
      "Epoch 78/100\n",
      "4/4 [==============================] - 8s 455ms/step - loss: 0.4347 - accuracy: 0.7891\n",
      "Epoch 79/100\n",
      "4/4 [==============================] - 11s 414ms/step - loss: 0.4318 - accuracy: 0.7852\n",
      "Epoch 80/100\n",
      "4/4 [==============================] - 8s 408ms/step - loss: 0.4104 - accuracy: 0.7715\n",
      "Epoch 81/100\n",
      "4/4 [==============================] - 11s 471ms/step - loss: 0.3768 - accuracy: 0.8320\n",
      "Epoch 82/100\n",
      "4/4 [==============================] - 10s 413ms/step - loss: 0.3785 - accuracy: 0.8145\n",
      "Epoch 83/100\n",
      "4/4 [==============================] - 9s 691ms/step - loss: 0.3800 - accuracy: 0.8145\n",
      "Epoch 84/100\n",
      "4/4 [==============================] - 9s 414ms/step - loss: 0.3566 - accuracy: 0.8184\n",
      "Epoch 85/100\n",
      "4/4 [==============================] - 11s 405ms/step - loss: 0.3502 - accuracy: 0.8281\n",
      "Epoch 86/100\n",
      "4/4 [==============================] - 8s 406ms/step - loss: 0.3552 - accuracy: 0.8340\n",
      "Epoch 87/100\n",
      "4/4 [==============================] - 11s 396ms/step - loss: 0.3634 - accuracy: 0.8105\n",
      "Epoch 88/100\n",
      "4/4 [==============================] - 9s 408ms/step - loss: 0.3203 - accuracy: 0.8672\n",
      "Epoch 89/100\n",
      "4/4 [==============================] - 11s 685ms/step - loss: 0.2970 - accuracy: 0.8711\n",
      "Epoch 90/100\n",
      "4/4 [==============================] - 11s 412ms/step - loss: 0.2940 - accuracy: 0.8496\n",
      "Epoch 91/100\n",
      "4/4 [==============================] - 9s 399ms/step - loss: 0.2919 - accuracy: 0.8555\n",
      "Epoch 92/100\n",
      "4/4 [==============================] - 11s 671ms/step - loss: 0.2927 - accuracy: 0.8711\n",
      "Epoch 93/100\n",
      "4/4 [==============================] - 11s 402ms/step - loss: 0.2561 - accuracy: 0.8711\n",
      "Epoch 94/100\n",
      "4/4 [==============================] - 9s 643ms/step - loss: 0.2364 - accuracy: 0.8945\n",
      "Epoch 95/100\n",
      "4/4 [==============================] - 10s 406ms/step - loss: 0.2658 - accuracy: 0.8828\n",
      "Epoch 96/100\n",
      "4/4 [==============================] - 10s 701ms/step - loss: 0.2498 - accuracy: 0.8887\n",
      "Epoch 97/100\n",
      "4/4 [==============================] - 9s 401ms/step - loss: 0.2322 - accuracy: 0.9023\n",
      "Epoch 98/100\n",
      "4/4 [==============================] - 11s 538ms/step - loss: 0.2186 - accuracy: 0.9062\n",
      "Epoch 99/100\n",
      "4/4 [==============================] - 8s 406ms/step - loss: 0.2315 - accuracy: 0.8867\n",
      "Epoch 100/100\n",
      "4/4 [==============================] - 10s 402ms/step - loss: 0.1897 - accuracy: 0.9121\n"
     ]
    },
    {
     "data": {
      "text/plain": [
       "<keras.src.callbacks.History at 0x79d1bcdc93c0>"
      ]
     },
     "execution_count": 10,
     "metadata": {},
     "output_type": "execute_result"
    }
   ],
   "source": [
    "from keras.models import Sequential\n",
    "from keras.layers import Dropout, Activation, Dense\n",
    "from keras.layers import Flatten, Convolution2D, MaxPooling2D\n",
    "from keras.models import load_model\n",
    "import tensorflow as tf\n",
    "import cv2\n",
    "\n",
    "batch_size = 20\n",
    "num_classes = 1\n",
    "model = Sequential()\n",
    "model.add(Convolution2D(64, 3, 3, padding='same',activation='relu',\n",
    "                        input_shape=(120,160,3)))\n",
    "model.add(MaxPooling2D(pool_size=(2, 2), padding='same'))\n",
    "model.add(Dropout(0.25))\n",
    "\n",
    "model.add(Convolution2D(128, 3, 3, padding='same',activation='relu'))\n",
    "model.add(MaxPooling2D(pool_size=(2, 2), padding='same'))\n",
    "model.add(Dropout(0.25))\n",
    "\n",
    "model.add(Convolution2D(128, 3, 3,padding='same'))\n",
    "model.add(MaxPooling2D(pool_size=(2, 2), padding='same'))\n",
    "model.add(Dropout(0.25))\n",
    "\n",
    "model.add(Flatten())\n",
    "model.add(Dense(256, activation = 'relu')) #relu\n",
    "model.add(Dropout(0.5))\n",
    "model.add(Dense(num_classes,activation = 'sigmoid'))\n",
    "\n",
    "model.compile(loss='binary_crossentropy',optimizer='Adam',\n",
    "              metrics=['accuracy'])\n",
    "model.fit(train_dataset, batch_size=20, epochs=100)\n",
    "\n",
    "#model.save('Gersang.h5')"
   ]
  },
  {
   "cell_type": "code",
   "execution_count": 11,
   "id": "1b7e1873",
   "metadata": {
    "colab": {
     "base_uri": "https://localhost:8080/"
    },
    "id": "9372b7fe",
    "outputId": "44abae1b-d022-4f21-9250-104b17575a6b"
   },
   "outputs": [
    {
     "name": "stdout",
     "output_type": "stream",
     "text": [
      "Model: \"sequential\"\n",
      "_________________________________________________________________\n",
      " Layer (type)                Output Shape              Param #   \n",
      "=================================================================\n",
      " conv2d (Conv2D)             (None, 40, 54, 64)        1792      \n",
      "                                                                 \n",
      " max_pooling2d (MaxPooling2  (None, 20, 27, 64)        0         \n",
      " D)                                                              \n",
      "                                                                 \n",
      " dropout (Dropout)           (None, 20, 27, 64)        0         \n",
      "                                                                 \n",
      " conv2d_1 (Conv2D)           (None, 7, 9, 128)         73856     \n",
      "                                                                 \n",
      " max_pooling2d_1 (MaxPoolin  (None, 4, 5, 128)         0         \n",
      " g2D)                                                            \n",
      "                                                                 \n",
      " dropout_1 (Dropout)         (None, 4, 5, 128)         0         \n",
      "                                                                 \n",
      " conv2d_2 (Conv2D)           (None, 2, 2, 128)         147584    \n",
      "                                                                 \n",
      " max_pooling2d_2 (MaxPoolin  (None, 1, 1, 128)         0         \n",
      " g2D)                                                            \n",
      "                                                                 \n",
      " dropout_2 (Dropout)         (None, 1, 1, 128)         0         \n",
      "                                                                 \n",
      " flatten (Flatten)           (None, 128)               0         \n",
      "                                                                 \n",
      " dense (Dense)               (None, 256)               33024     \n",
      "                                                                 \n",
      " dropout_3 (Dropout)         (None, 256)               0         \n",
      "                                                                 \n",
      " dense_1 (Dense)             (None, 1)                 257       \n",
      "                                                                 \n",
      "=================================================================\n",
      "Total params: 256513 (1002.00 KB)\n",
      "Trainable params: 256513 (1002.00 KB)\n",
      "Non-trainable params: 0 (0.00 Byte)\n",
      "_________________________________________________________________\n"
     ]
    }
   ],
   "source": [
    "model.summary()"
   ]
  },
  {
   "cell_type": "code",
   "execution_count": 18,
   "id": "b3fb8271",
   "metadata": {
    "colab": {
     "base_uri": "https://localhost:8080/"
    },
    "id": "3fa51a0a",
    "outputId": "1dcd14b9-9570-4886-cb5c-de073885ecbf"
   },
   "outputs": [
    {
     "name": "stdout",
     "output_type": "stream",
     "text": [
      "2/2 [==============================] - 7s 52ms/step - loss: 0.1375 - accuracy: 0.9694\n"
     ]
    },
    {
     "data": {
      "text/plain": [
       "[0.13754120469093323, 0.9693877696990967]"
      ]
     },
     "execution_count": 18,
     "metadata": {},
     "output_type": "execute_result"
    }
   ],
   "source": [
    "model.evaluate(test_dataset)"
   ]
  },
  {
   "cell_type": "code",
   "execution_count": null,
   "id": "e4c60e3e",
   "metadata": {
    "id": "1b54f5ef"
   },
   "outputs": [],
   "source": []
  },
  {
   "cell_type": "code",
   "execution_count": null,
   "id": "945e018d",
   "metadata": {
    "id": "ef05a6cd"
   },
   "outputs": [],
   "source": []
  },
  {
   "cell_type": "markdown",
   "id": "50acc8e8",
   "metadata": {
    "id": "954cc439"
   },
   "source": [
    "# Case Application"
   ]
  },
  {
   "cell_type": "code",
   "execution_count": 15,
   "id": "60ccbeaf",
   "metadata": {
    "colab": {
     "base_uri": "https://localhost:8080/"
    },
    "id": "41a51aeb",
    "outputId": "b1cb8e61-18e5-4307-f58d-8c8b70f46030"
   },
   "outputs": [
    {
     "name": "stdout",
     "output_type": "stream",
     "text": [
      "Found 32 files belonging to 2 classes.\n"
     ]
    }
   ],
   "source": [
    "case_dataset = keras.utils.image_dataset_from_directory(\n",
    "    \"/content/drive/MyDrive/의학영상처리/case_application_dataset\", labels=\"inferred\", label_mode=\"binary\", image_size=(120, 160), batch_size=128, class_names=[\"controls\", \"patients\"]\n",
    ")"
   ]
  },
  {
   "cell_type": "code",
   "execution_count": 16,
   "id": "e75e7762",
   "metadata": {
    "colab": {
     "base_uri": "https://localhost:8080/"
    },
    "id": "307b58a7",
    "outputId": "f5f0d7f8-23e8-4249-aa7a-686de5393144"
   },
   "outputs": [
    {
     "data": {
      "text/plain": [
       "<_PrefetchDataset element_spec=(TensorSpec(shape=(None, 120, 160, 3), dtype=tf.float32, name=None), TensorSpec(shape=(None, 1), dtype=tf.float32, name=None))>"
      ]
     },
     "execution_count": 16,
     "metadata": {},
     "output_type": "execute_result"
    }
   ],
   "source": [
    "case_dataset"
   ]
  },
  {
   "cell_type": "code",
   "execution_count": 17,
   "id": "14520d45",
   "metadata": {
    "id": "1e2f7486"
   },
   "outputs": [],
   "source": [
    "def normalize_images(image, label):\n",
    "    return image / 255.0, label\n",
    "\n",
    "case_dataset = case_dataset.map(normalize_images)"
   ]
  },
  {
   "cell_type": "code",
   "execution_count": 19,
   "id": "046d6b2c",
   "metadata": {
    "colab": {
     "base_uri": "https://localhost:8080/"
    },
    "id": "b3da1005",
    "outputId": "401432a6-3a45-4584-c822-f5a57f05dd13"
   },
   "outputs": [
    {
     "name": "stdout",
     "output_type": "stream",
     "text": [
      "1/1 [==============================] - 5s 5s/step - loss: 0.3412 - accuracy: 0.8438\n"
     ]
    },
    {
     "data": {
      "text/plain": [
       "[0.341203510761261, 0.84375]"
      ]
     },
     "execution_count": 19,
     "metadata": {},
     "output_type": "execute_result"
    }
   ],
   "source": [
    "model.evaluate(case_dataset)"
   ]
  },
  {
   "cell_type": "code",
   "execution_count": null,
   "id": "11cc35ea",
   "metadata": {
    "id": "716de23d"
   },
   "outputs": [],
   "source": []
  }
 ],
 "metadata": {
  "colab": {
   "provenance": []
  },
  "kernelspec": {
   "display_name": "Python 3",
   "language": "python",
   "name": "python3"
  },
  "language_info": {
   "codemirror_mode": {
    "name": "ipython",
    "version": 3
   },
   "file_extension": ".py",
   "mimetype": "text/x-python",
   "name": "python",
   "nbconvert_exporter": "python",
   "pygments_lexer": "ipython3",
   "version": "3.7.6"
  }
 },
 "nbformat": 4,
 "nbformat_minor": 5
}
