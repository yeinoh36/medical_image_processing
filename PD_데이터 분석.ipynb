{
 "cells": [
  {
   "cell_type": "code",
   "execution_count": 1,
   "metadata": {},
   "outputs": [],
   "source": [
    "import pandas as pd\n",
    "import numpy as np"
   ]
  },
  {
   "cell_type": "code",
   "execution_count": 9,
   "metadata": {},
   "outputs": [
    {
     "data": {
      "text/html": [
       "<div>\n",
       "<style scoped>\n",
       "    .dataframe tbody tr th:only-of-type {\n",
       "        vertical-align: middle;\n",
       "    }\n",
       "\n",
       "    .dataframe tbody tr th {\n",
       "        vertical-align: top;\n",
       "    }\n",
       "\n",
       "    .dataframe thead th {\n",
       "        text-align: right;\n",
       "    }\n",
       "</style>\n",
       "<table border=\"1\" class=\"dataframe\">\n",
       "  <thead>\n",
       "    <tr style=\"text-align: right;\">\n",
       "      <th></th>\n",
       "      <th>x</th>\n",
       "      <th>y</th>\n",
       "      <th>time</th>\n",
       "      <th>on/off state</th>\n",
       "      <th>azimuth</th>\n",
       "      <th>altitude</th>\n",
       "      <th>pressure</th>\n",
       "    </tr>\n",
       "  </thead>\n",
       "  <tbody>\n",
       "    <tr>\n",
       "      <th>0</th>\n",
       "      <td>2474</td>\n",
       "      <td>4161</td>\n",
       "      <td>0</td>\n",
       "      <td>1</td>\n",
       "      <td>3447</td>\n",
       "      <td>633</td>\n",
       "      <td>78</td>\n",
       "    </tr>\n",
       "    <tr>\n",
       "      <th>1</th>\n",
       "      <td>2472</td>\n",
       "      <td>4164</td>\n",
       "      <td>7</td>\n",
       "      <td>1</td>\n",
       "      <td>3457</td>\n",
       "      <td>624</td>\n",
       "      <td>124</td>\n",
       "    </tr>\n",
       "    <tr>\n",
       "      <th>2</th>\n",
       "      <td>2472</td>\n",
       "      <td>4166</td>\n",
       "      <td>15</td>\n",
       "      <td>1</td>\n",
       "      <td>3457</td>\n",
       "      <td>624</td>\n",
       "      <td>162</td>\n",
       "    </tr>\n",
       "    <tr>\n",
       "      <th>3</th>\n",
       "      <td>2471</td>\n",
       "      <td>4167</td>\n",
       "      <td>22</td>\n",
       "      <td>1</td>\n",
       "      <td>3457</td>\n",
       "      <td>624</td>\n",
       "      <td>212</td>\n",
       "    </tr>\n",
       "    <tr>\n",
       "      <th>4</th>\n",
       "      <td>2471</td>\n",
       "      <td>4168</td>\n",
       "      <td>30</td>\n",
       "      <td>1</td>\n",
       "      <td>3457</td>\n",
       "      <td>624</td>\n",
       "      <td>266</td>\n",
       "    </tr>\n",
       "    <tr>\n",
       "      <th>...</th>\n",
       "      <td>...</td>\n",
       "      <td>...</td>\n",
       "      <td>...</td>\n",
       "      <td>...</td>\n",
       "      <td>...</td>\n",
       "      <td>...</td>\n",
       "      <td>...</td>\n",
       "    </tr>\n",
       "    <tr>\n",
       "      <th>1767</th>\n",
       "      <td>1146</td>\n",
       "      <td>4790</td>\n",
       "      <td>13280</td>\n",
       "      <td>1</td>\n",
       "      <td>211</td>\n",
       "      <td>669</td>\n",
       "      <td>757</td>\n",
       "    </tr>\n",
       "    <tr>\n",
       "      <th>1768</th>\n",
       "      <td>1145</td>\n",
       "      <td>4787</td>\n",
       "      <td>13288</td>\n",
       "      <td>1</td>\n",
       "      <td>211</td>\n",
       "      <td>669</td>\n",
       "      <td>751</td>\n",
       "    </tr>\n",
       "    <tr>\n",
       "      <th>1769</th>\n",
       "      <td>1145</td>\n",
       "      <td>4784</td>\n",
       "      <td>13295</td>\n",
       "      <td>1</td>\n",
       "      <td>211</td>\n",
       "      <td>669</td>\n",
       "      <td>729</td>\n",
       "    </tr>\n",
       "    <tr>\n",
       "      <th>1770</th>\n",
       "      <td>1145</td>\n",
       "      <td>4782</td>\n",
       "      <td>13303</td>\n",
       "      <td>1</td>\n",
       "      <td>211</td>\n",
       "      <td>669</td>\n",
       "      <td>595</td>\n",
       "    </tr>\n",
       "    <tr>\n",
       "      <th>1771</th>\n",
       "      <td>1147</td>\n",
       "      <td>4780</td>\n",
       "      <td>13310</td>\n",
       "      <td>1</td>\n",
       "      <td>211</td>\n",
       "      <td>669</td>\n",
       "      <td>306</td>\n",
       "    </tr>\n",
       "  </tbody>\n",
       "</table>\n",
       "<p>1772 rows × 7 columns</p>\n",
       "</div>"
      ],
      "text/plain": [
       "         x     y   time  on/off state  azimuth  altitude  pressure\n",
       "0     2474  4161      0             1     3447       633        78\n",
       "1     2472  4164      7             1     3457       624       124\n",
       "2     2472  4166     15             1     3457       624       162\n",
       "3     2471  4167     22             1     3457       624       212\n",
       "4     2471  4168     30             1     3457       624       266\n",
       "...    ...   ...    ...           ...      ...       ...       ...\n",
       "1767  1146  4790  13280             1      211       669       757\n",
       "1768  1145  4787  13288             1      211       669       751\n",
       "1769  1145  4784  13295             1      211       669       729\n",
       "1770  1145  4782  13303             1      211       669       595\n",
       "1771  1147  4780  13310             1      211       669       306\n",
       "\n",
       "[1772 rows x 7 columns]"
      ]
     },
     "execution_count": 9,
     "metadata": {},
     "output_type": "execute_result"
    }
   ],
   "source": [
    "df = pd.read_csv('M1.csv', encoding='UTf8', header=None)\n",
    "df.columns = ['x','y','time','on/off state', 'azimuth','altitude','pressure']\n",
    "df"
   ]
  },
  {
   "cell_type": "code",
   "execution_count": 3,
   "metadata": {},
   "outputs": [
    {
     "data": {
      "text/plain": [
       "[13310]"
      ]
     },
     "execution_count": 3,
     "metadata": {},
     "output_type": "execute_result"
    }
   ],
   "source": [
    "result = pd.DataFrame()\n",
    "\n",
    "list_duration = []\n",
    "duration = df.loc[len(df)-1]['time'] - df.loc[0]['time']\n",
    "list_duration.append(duration)\n",
    "list_duration"
   ]
  },
  {
   "cell_type": "code",
   "execution_count": 7,
   "metadata": {},
   "outputs": [
    {
     "data": {
      "text/plain": [
       "[3114103.778832826]"
      ]
     },
     "execution_count": 7,
     "metadata": {},
     "output_type": "execute_result"
    }
   ],
   "source": [
    "list_dist = []\n",
    "\n",
    "sum=0\n",
    "for i in range(len(df)-1) :\n",
    "    x2 = df.loc[i+1]['x']\n",
    "    x1= df.loc[i]['x']\n",
    "    y2 = df.loc[i+1]['y']\n",
    "    y1= df.loc[i]['x']\n",
    "    dist = ((x2-x1)**2 + (y2-y1)**2)**(1/2)\n",
    "    sum +=dist\n",
    "list_dist.append(sum)\n",
    "list_dist"
   ]
  },
  {
   "cell_type": "code",
   "execution_count": 12,
   "metadata": {},
   "outputs": [
    {
     "data": {
      "text/plain": [
       "[36992.62238884022]"
      ]
     },
     "execution_count": 12,
     "metadata": {},
     "output_type": "execute_result"
    }
   ],
   "source": [
    "variance = np.var(df['pressure'])\n",
    "\n",
    "list_var = []\n",
    "list_var.append(variance)\n",
    "list_var"
   ]
  },
  {
   "cell_type": "code",
   "execution_count": 13,
   "metadata": {},
   "outputs": [],
   "source": [
    "result['duration'] = list_duration\n",
    "result['distance'] = list_dist\n",
    "result['var_pressure'] = list_var"
   ]
  },
  {
   "cell_type": "code",
   "execution_count": 14,
   "metadata": {},
   "outputs": [
    {
     "data": {
      "text/html": [
       "<div>\n",
       "<style scoped>\n",
       "    .dataframe tbody tr th:only-of-type {\n",
       "        vertical-align: middle;\n",
       "    }\n",
       "\n",
       "    .dataframe tbody tr th {\n",
       "        vertical-align: top;\n",
       "    }\n",
       "\n",
       "    .dataframe thead th {\n",
       "        text-align: right;\n",
       "    }\n",
       "</style>\n",
       "<table border=\"1\" class=\"dataframe\">\n",
       "  <thead>\n",
       "    <tr style=\"text-align: right;\">\n",
       "      <th></th>\n",
       "      <th>duration</th>\n",
       "      <th>distance</th>\n",
       "      <th>var_pressure</th>\n",
       "    </tr>\n",
       "  </thead>\n",
       "  <tbody>\n",
       "    <tr>\n",
       "      <th>0</th>\n",
       "      <td>13310</td>\n",
       "      <td>3.114104e+06</td>\n",
       "      <td>36992.622389</td>\n",
       "    </tr>\n",
       "  </tbody>\n",
       "</table>\n",
       "</div>"
      ],
      "text/plain": [
       "   duration      distance  var_pressure\n",
       "0     13310  3.114104e+06  36992.622389"
      ]
     },
     "execution_count": 14,
     "metadata": {},
     "output_type": "execute_result"
    }
   ],
   "source": [
    "result"
   ]
  },
  {
   "cell_type": "code",
   "execution_count": 11,
   "metadata": {},
   "outputs": [],
   "source": [
    "import pandas as pd\n",
    "import numpy as np\n",
    "import os\n",
    "\n",
    "#Patients_1__1_1.csv\n",
    "folder_path = 'C:/Users/user/Medical Image Processing/Patients_drawing/'\n",
    "f = os.listdir('./Patients_drawing')\n",
    "file_name = []\n",
    "for i in range(len(f)) : \n",
    "    file = folder_path + f[i]\n",
    "    file_name.append(file)"
   ]
  },
  {
   "cell_type": "code",
   "execution_count": 12,
   "metadata": {},
   "outputs": [
    {
     "data": {
      "text/plain": [
       "['C:/Users/user/Medical Image Processing/Patients_drawing/Patients_10__1_1.csv',\n",
       " 'C:/Users/user/Medical Image Processing/Patients_drawing/Patients_11__1_1.csv',\n",
       " 'C:/Users/user/Medical Image Processing/Patients_drawing/Patients_12__1_1.csv',\n",
       " 'C:/Users/user/Medical Image Processing/Patients_drawing/Patients_13__1_1.csv',\n",
       " 'C:/Users/user/Medical Image Processing/Patients_drawing/Patients_14__1_1.csv',\n",
       " 'C:/Users/user/Medical Image Processing/Patients_drawing/Patients_15__1_1.csv',\n",
       " 'C:/Users/user/Medical Image Processing/Patients_drawing/Patients_16__1_1.csv',\n",
       " 'C:/Users/user/Medical Image Processing/Patients_drawing/Patients_17__1_1.csv',\n",
       " 'C:/Users/user/Medical Image Processing/Patients_drawing/Patients_18__1_1.csv',\n",
       " 'C:/Users/user/Medical Image Processing/Patients_drawing/Patients_19__1_1.csv',\n",
       " 'C:/Users/user/Medical Image Processing/Patients_drawing/Patients_1__1_1.csv',\n",
       " 'C:/Users/user/Medical Image Processing/Patients_drawing/Patients_20__1_1.csv',\n",
       " 'C:/Users/user/Medical Image Processing/Patients_drawing/Patients_21__1_1.csv',\n",
       " 'C:/Users/user/Medical Image Processing/Patients_drawing/Patients_22__1_1.csv',\n",
       " 'C:/Users/user/Medical Image Processing/Patients_drawing/Patients_23__1_1.csv',\n",
       " 'C:/Users/user/Medical Image Processing/Patients_drawing/Patients_24__1_1.csv',\n",
       " 'C:/Users/user/Medical Image Processing/Patients_drawing/Patients_25__1_1.csv',\n",
       " 'C:/Users/user/Medical Image Processing/Patients_drawing/Patients_26__1_1.csv',\n",
       " 'C:/Users/user/Medical Image Processing/Patients_drawing/Patients_27__1_1.csv',\n",
       " 'C:/Users/user/Medical Image Processing/Patients_drawing/Patients_28__1_1.csv',\n",
       " 'C:/Users/user/Medical Image Processing/Patients_drawing/Patients_29__1_1.csv',\n",
       " 'C:/Users/user/Medical Image Processing/Patients_drawing/Patients_2__1_1.csv',\n",
       " 'C:/Users/user/Medical Image Processing/Patients_drawing/Patients_30__1_1.csv',\n",
       " 'C:/Users/user/Medical Image Processing/Patients_drawing/Patients_31__1_1.csv',\n",
       " 'C:/Users/user/Medical Image Processing/Patients_drawing/Patients_32__1_1.csv',\n",
       " 'C:/Users/user/Medical Image Processing/Patients_drawing/Patients_33__1_1.csv',\n",
       " 'C:/Users/user/Medical Image Processing/Patients_drawing/Patients_34__1_1.csv',\n",
       " 'C:/Users/user/Medical Image Processing/Patients_drawing/Patients_35__1_1.csv',\n",
       " 'C:/Users/user/Medical Image Processing/Patients_drawing/Patients_37__1_1.csv',\n",
       " 'C:/Users/user/Medical Image Processing/Patients_drawing/Patients_3__1_1.csv',\n",
       " 'C:/Users/user/Medical Image Processing/Patients_drawing/Patients_4__1_1.csv',\n",
       " 'C:/Users/user/Medical Image Processing/Patients_drawing/Patients_5__1_1.csv',\n",
       " 'C:/Users/user/Medical Image Processing/Patients_drawing/Patients_6__1_1.csv',\n",
       " 'C:/Users/user/Medical Image Processing/Patients_drawing/Patients_7__1_1.csv',\n",
       " 'C:/Users/user/Medical Image Processing/Patients_drawing/Patients_8__1_1.csv',\n",
       " 'C:/Users/user/Medical Image Processing/Patients_drawing/Patients_9__1_1.csv']"
      ]
     },
     "execution_count": 12,
     "metadata": {},
     "output_type": "execute_result"
    }
   ],
   "source": [
    "file_name"
   ]
  },
  {
   "cell_type": "code",
   "execution_count": 17,
   "metadata": {},
   "outputs": [],
   "source": [
    "list_duration = []\n",
    "list_dist = []\n",
    "list_var = []\n",
    "\n",
    "for i in range(len(file_name)) : \n",
    "    df = pd.read_csv(file_name[i], header=None)\n",
    "    df.columns = ['x','y','time','on/off state', 'azimuth','altitude','pressure']\n",
    "\n",
    "\n",
    "    #걸린 시간 측정\n",
    "    duration = df.loc[len(df)-1]['time'] - df.loc[0]['time']\n",
    "    list_duration.append(duration)\n",
    "\n",
    "    #이동 거리 측정\n",
    "    sum=0\n",
    "    for i in range(len(df)-1) :\n",
    "        x2 = df.loc[i+1]['x']\n",
    "        x1= df.loc[i]['x']\n",
    "        y2 = df.loc[i+1]['y']\n",
    "        y1= df.loc[i]['x']\n",
    "        dist = ((x2-x1)**2 + (y2-y1)**2)**(1/2)\n",
    "        sum +=dist\n",
    "    list_dist.append(sum)\n",
    "\n",
    "    #압력 분산 측정\n",
    "    variance = np.var(df['pressure'])\n",
    "    list_var.append(variance)"
   ]
  },
  {
   "cell_type": "code",
   "execution_count": 18,
   "metadata": {},
   "outputs": [
    {
     "data": {
      "text/html": [
       "<div>\n",
       "<style scoped>\n",
       "    .dataframe tbody tr th:only-of-type {\n",
       "        vertical-align: middle;\n",
       "    }\n",
       "\n",
       "    .dataframe tbody tr th {\n",
       "        vertical-align: top;\n",
       "    }\n",
       "\n",
       "    .dataframe thead th {\n",
       "        text-align: right;\n",
       "    }\n",
       "</style>\n",
       "<table border=\"1\" class=\"dataframe\">\n",
       "  <thead>\n",
       "    <tr style=\"text-align: right;\">\n",
       "      <th></th>\n",
       "      <th>duration</th>\n",
       "      <th>distance</th>\n",
       "      <th>var_pressure</th>\n",
       "    </tr>\n",
       "  </thead>\n",
       "  <tbody>\n",
       "    <tr>\n",
       "      <th>0</th>\n",
       "      <td>29260</td>\n",
       "      <td>4.902465e+06</td>\n",
       "      <td>141831.921945</td>\n",
       "    </tr>\n",
       "    <tr>\n",
       "      <th>1</th>\n",
       "      <td>41895</td>\n",
       "      <td>8.269971e+06</td>\n",
       "      <td>28730.316558</td>\n",
       "    </tr>\n",
       "    <tr>\n",
       "      <th>2</th>\n",
       "      <td>21045</td>\n",
       "      <td>3.828818e+06</td>\n",
       "      <td>23915.557352</td>\n",
       "    </tr>\n",
       "    <tr>\n",
       "      <th>3</th>\n",
       "      <td>20207</td>\n",
       "      <td>3.265854e+06</td>\n",
       "      <td>161083.342238</td>\n",
       "    </tr>\n",
       "    <tr>\n",
       "      <th>4</th>\n",
       "      <td>4141</td>\n",
       "      <td>7.721439e+05</td>\n",
       "      <td>39225.721484</td>\n",
       "    </tr>\n",
       "    <tr>\n",
       "      <th>5</th>\n",
       "      <td>13619</td>\n",
       "      <td>2.918289e+06</td>\n",
       "      <td>26472.619693</td>\n",
       "    </tr>\n",
       "    <tr>\n",
       "      <th>6</th>\n",
       "      <td>37205</td>\n",
       "      <td>6.845097e+06</td>\n",
       "      <td>46042.858360</td>\n",
       "    </tr>\n",
       "    <tr>\n",
       "      <th>7</th>\n",
       "      <td>65076</td>\n",
       "      <td>1.457122e+07</td>\n",
       "      <td>60599.002218</td>\n",
       "    </tr>\n",
       "    <tr>\n",
       "      <th>8</th>\n",
       "      <td>13348</td>\n",
       "      <td>2.080242e+06</td>\n",
       "      <td>12322.002346</td>\n",
       "    </tr>\n",
       "    <tr>\n",
       "      <th>9</th>\n",
       "      <td>15968</td>\n",
       "      <td>2.920973e+06</td>\n",
       "      <td>31721.167494</td>\n",
       "    </tr>\n",
       "    <tr>\n",
       "      <th>10</th>\n",
       "      <td>13310</td>\n",
       "      <td>3.114104e+06</td>\n",
       "      <td>36992.622389</td>\n",
       "    </tr>\n",
       "    <tr>\n",
       "      <th>11</th>\n",
       "      <td>41443</td>\n",
       "      <td>7.340351e+06</td>\n",
       "      <td>13767.792883</td>\n",
       "    </tr>\n",
       "    <tr>\n",
       "      <th>12</th>\n",
       "      <td>7036</td>\n",
       "      <td>5.700365e+05</td>\n",
       "      <td>126421.179596</td>\n",
       "    </tr>\n",
       "    <tr>\n",
       "      <th>13</th>\n",
       "      <td>27327</td>\n",
       "      <td>1.317527e+07</td>\n",
       "      <td>153778.438120</td>\n",
       "    </tr>\n",
       "    <tr>\n",
       "      <th>14</th>\n",
       "      <td>21217</td>\n",
       "      <td>3.756552e+06</td>\n",
       "      <td>18142.289735</td>\n",
       "    </tr>\n",
       "    <tr>\n",
       "      <th>15</th>\n",
       "      <td>22074</td>\n",
       "      <td>3.609869e+06</td>\n",
       "      <td>47070.656361</td>\n",
       "    </tr>\n",
       "    <tr>\n",
       "      <th>16</th>\n",
       "      <td>12702</td>\n",
       "      <td>1.457590e+06</td>\n",
       "      <td>18505.008756</td>\n",
       "    </tr>\n",
       "    <tr>\n",
       "      <th>17</th>\n",
       "      <td>11251</td>\n",
       "      <td>1.606065e+06</td>\n",
       "      <td>57058.684908</td>\n",
       "    </tr>\n",
       "    <tr>\n",
       "      <th>18</th>\n",
       "      <td>15062</td>\n",
       "      <td>2.406304e+06</td>\n",
       "      <td>8770.448952</td>\n",
       "    </tr>\n",
       "    <tr>\n",
       "      <th>19</th>\n",
       "      <td>30011</td>\n",
       "      <td>4.677926e+06</td>\n",
       "      <td>181435.969651</td>\n",
       "    </tr>\n",
       "    <tr>\n",
       "      <th>20</th>\n",
       "      <td>13131</td>\n",
       "      <td>1.761761e+06</td>\n",
       "      <td>38339.726729</td>\n",
       "    </tr>\n",
       "    <tr>\n",
       "      <th>21</th>\n",
       "      <td>18151</td>\n",
       "      <td>4.062930e+06</td>\n",
       "      <td>41219.341392</td>\n",
       "    </tr>\n",
       "    <tr>\n",
       "      <th>22</th>\n",
       "      <td>8508</td>\n",
       "      <td>7.228866e+05</td>\n",
       "      <td>153812.048812</td>\n",
       "    </tr>\n",
       "    <tr>\n",
       "      <th>23</th>\n",
       "      <td>20428</td>\n",
       "      <td>3.846147e+06</td>\n",
       "      <td>59432.007927</td>\n",
       "    </tr>\n",
       "    <tr>\n",
       "      <th>24</th>\n",
       "      <td>20759</td>\n",
       "      <td>3.873650e+06</td>\n",
       "      <td>19739.349393</td>\n",
       "    </tr>\n",
       "    <tr>\n",
       "      <th>25</th>\n",
       "      <td>14936</td>\n",
       "      <td>1.644262e+06</td>\n",
       "      <td>70043.761535</td>\n",
       "    </tr>\n",
       "    <tr>\n",
       "      <th>26</th>\n",
       "      <td>17610</td>\n",
       "      <td>2.701873e+06</td>\n",
       "      <td>16664.016067</td>\n",
       "    </tr>\n",
       "    <tr>\n",
       "      <th>27</th>\n",
       "      <td>17160</td>\n",
       "      <td>2.595066e+06</td>\n",
       "      <td>18318.524672</td>\n",
       "    </tr>\n",
       "    <tr>\n",
       "      <th>28</th>\n",
       "      <td>13011</td>\n",
       "      <td>2.629028e+06</td>\n",
       "      <td>13600.589129</td>\n",
       "    </tr>\n",
       "    <tr>\n",
       "      <th>29</th>\n",
       "      <td>15558</td>\n",
       "      <td>3.888038e+06</td>\n",
       "      <td>15037.535956</td>\n",
       "    </tr>\n",
       "    <tr>\n",
       "      <th>30</th>\n",
       "      <td>21994</td>\n",
       "      <td>3.753130e+06</td>\n",
       "      <td>89797.775551</td>\n",
       "    </tr>\n",
       "    <tr>\n",
       "      <th>31</th>\n",
       "      <td>123097</td>\n",
       "      <td>2.635168e+07</td>\n",
       "      <td>9645.631821</td>\n",
       "    </tr>\n",
       "    <tr>\n",
       "      <th>32</th>\n",
       "      <td>21326</td>\n",
       "      <td>4.167884e+06</td>\n",
       "      <td>41480.305883</td>\n",
       "    </tr>\n",
       "    <tr>\n",
       "      <th>33</th>\n",
       "      <td>77831</td>\n",
       "      <td>4.538921e+07</td>\n",
       "      <td>85909.441162</td>\n",
       "    </tr>\n",
       "    <tr>\n",
       "      <th>34</th>\n",
       "      <td>9275</td>\n",
       "      <td>1.635586e+06</td>\n",
       "      <td>8208.526375</td>\n",
       "    </tr>\n",
       "    <tr>\n",
       "      <th>35</th>\n",
       "      <td>31672</td>\n",
       "      <td>5.607655e+06</td>\n",
       "      <td>8583.371707</td>\n",
       "    </tr>\n",
       "  </tbody>\n",
       "</table>\n",
       "</div>"
      ],
      "text/plain": [
       "    duration      distance   var_pressure\n",
       "0      29260  4.902465e+06  141831.921945\n",
       "1      41895  8.269971e+06   28730.316558\n",
       "2      21045  3.828818e+06   23915.557352\n",
       "3      20207  3.265854e+06  161083.342238\n",
       "4       4141  7.721439e+05   39225.721484\n",
       "5      13619  2.918289e+06   26472.619693\n",
       "6      37205  6.845097e+06   46042.858360\n",
       "7      65076  1.457122e+07   60599.002218\n",
       "8      13348  2.080242e+06   12322.002346\n",
       "9      15968  2.920973e+06   31721.167494\n",
       "10     13310  3.114104e+06   36992.622389\n",
       "11     41443  7.340351e+06   13767.792883\n",
       "12      7036  5.700365e+05  126421.179596\n",
       "13     27327  1.317527e+07  153778.438120\n",
       "14     21217  3.756552e+06   18142.289735\n",
       "15     22074  3.609869e+06   47070.656361\n",
       "16     12702  1.457590e+06   18505.008756\n",
       "17     11251  1.606065e+06   57058.684908\n",
       "18     15062  2.406304e+06    8770.448952\n",
       "19     30011  4.677926e+06  181435.969651\n",
       "20     13131  1.761761e+06   38339.726729\n",
       "21     18151  4.062930e+06   41219.341392\n",
       "22      8508  7.228866e+05  153812.048812\n",
       "23     20428  3.846147e+06   59432.007927\n",
       "24     20759  3.873650e+06   19739.349393\n",
       "25     14936  1.644262e+06   70043.761535\n",
       "26     17610  2.701873e+06   16664.016067\n",
       "27     17160  2.595066e+06   18318.524672\n",
       "28     13011  2.629028e+06   13600.589129\n",
       "29     15558  3.888038e+06   15037.535956\n",
       "30     21994  3.753130e+06   89797.775551\n",
       "31    123097  2.635168e+07    9645.631821\n",
       "32     21326  4.167884e+06   41480.305883\n",
       "33     77831  4.538921e+07   85909.441162\n",
       "34      9275  1.635586e+06    8208.526375\n",
       "35     31672  5.607655e+06    8583.371707"
      ]
     },
     "execution_count": 18,
     "metadata": {},
     "output_type": "execute_result"
    }
   ],
   "source": [
    "p_result = pd.DataFrame()\n",
    "p_result['duration'] = list_duration\n",
    "p_result['distance'] = list_dist\n",
    "p_result['var_pressure'] = list_var\n",
    "\n",
    "p_result"
   ]
  },
  {
   "cell_type": "code",
   "execution_count": null,
   "metadata": {},
   "outputs": [],
   "source": []
  },
  {
   "cell_type": "code",
   "execution_count": 20,
   "metadata": {},
   "outputs": [],
   "source": [
    "#Patients_1__1_1.csv\n",
    "folder_path = 'C:/Users/user/Medical Image Processing/Controls_drawing/'\n",
    "f = os.listdir('./Controls_drawing')\n",
    "file_name = []\n",
    "for i in range(len(f)) : \n",
    "    file = folder_path + f[i]\n",
    "    file_name.append(file)"
   ]
  },
  {
   "cell_type": "code",
   "execution_count": 21,
   "metadata": {},
   "outputs": [],
   "source": [
    "clist_duration = []\n",
    "clist_dist = []\n",
    "clist_var = []\n",
    "\n",
    "for i in range(len(file_name)) : \n",
    "    df = pd.read_csv(file_name[i], header=None)\n",
    "    df.columns = ['x','y','time','on/off state', 'azimuth','altitude','pressure']\n",
    "\n",
    "\n",
    "    #걸린 시간 측정\n",
    "    duration = df.loc[len(df)-1]['time'] - df.loc[0]['time']\n",
    "    clist_duration.append(duration)\n",
    "\n",
    "    #이동 거리 측정\n",
    "    sum=0\n",
    "    for i in range(len(df)-1) :\n",
    "        x2 = df.loc[i+1]['x']\n",
    "        x1= df.loc[i]['x']\n",
    "        y2 = df.loc[i+1]['y']\n",
    "        y1= df.loc[i]['x']\n",
    "        dist = ((x2-x1)**2 + (y2-y1)**2)**(1/2)\n",
    "        sum +=dist\n",
    "    clist_dist.append(sum)\n",
    "\n",
    "    #압력 분산 측정\n",
    "    variance = np.var(df['pressure'])\n",
    "    clist_var.append(variance)"
   ]
  },
  {
   "cell_type": "code",
   "execution_count": 22,
   "metadata": {},
   "outputs": [
    {
     "data": {
      "text/html": [
       "<div>\n",
       "<style scoped>\n",
       "    .dataframe tbody tr th:only-of-type {\n",
       "        vertical-align: middle;\n",
       "    }\n",
       "\n",
       "    .dataframe tbody tr th {\n",
       "        vertical-align: top;\n",
       "    }\n",
       "\n",
       "    .dataframe thead th {\n",
       "        text-align: right;\n",
       "    }\n",
       "</style>\n",
       "<table border=\"1\" class=\"dataframe\">\n",
       "  <thead>\n",
       "    <tr style=\"text-align: right;\">\n",
       "      <th></th>\n",
       "      <th>duration</th>\n",
       "      <th>distance</th>\n",
       "      <th>var_pressure</th>\n",
       "    </tr>\n",
       "  </thead>\n",
       "  <tbody>\n",
       "    <tr>\n",
       "      <th>0</th>\n",
       "      <td>23583</td>\n",
       "      <td>3.974773e+06</td>\n",
       "      <td>149331.562276</td>\n",
       "    </tr>\n",
       "    <tr>\n",
       "      <th>1</th>\n",
       "      <td>16821</td>\n",
       "      <td>3.383938e+06</td>\n",
       "      <td>56591.264301</td>\n",
       "    </tr>\n",
       "    <tr>\n",
       "      <th>2</th>\n",
       "      <td>16775</td>\n",
       "      <td>2.685503e+06</td>\n",
       "      <td>24155.562562</td>\n",
       "    </tr>\n",
       "    <tr>\n",
       "      <th>3</th>\n",
       "      <td>15370</td>\n",
       "      <td>2.440930e+06</td>\n",
       "      <td>106606.308141</td>\n",
       "    </tr>\n",
       "    <tr>\n",
       "      <th>4</th>\n",
       "      <td>42334</td>\n",
       "      <td>8.271851e+06</td>\n",
       "      <td>49500.125252</td>\n",
       "    </tr>\n",
       "    <tr>\n",
       "      <th>5</th>\n",
       "      <td>13280</td>\n",
       "      <td>2.488000e+06</td>\n",
       "      <td>44829.224041</td>\n",
       "    </tr>\n",
       "    <tr>\n",
       "      <th>6</th>\n",
       "      <td>51003</td>\n",
       "      <td>8.849355e+06</td>\n",
       "      <td>18647.991439</td>\n",
       "    </tr>\n",
       "    <tr>\n",
       "      <th>7</th>\n",
       "      <td>12146</td>\n",
       "      <td>2.380603e+06</td>\n",
       "      <td>20648.779237</td>\n",
       "    </tr>\n",
       "    <tr>\n",
       "      <th>8</th>\n",
       "      <td>7208</td>\n",
       "      <td>1.325594e+06</td>\n",
       "      <td>120696.726344</td>\n",
       "    </tr>\n",
       "    <tr>\n",
       "      <th>9</th>\n",
       "      <td>11680</td>\n",
       "      <td>2.043557e+06</td>\n",
       "      <td>25663.994853</td>\n",
       "    </tr>\n",
       "    <tr>\n",
       "      <th>10</th>\n",
       "      <td>26615</td>\n",
       "      <td>4.812657e+06</td>\n",
       "      <td>107570.648705</td>\n",
       "    </tr>\n",
       "    <tr>\n",
       "      <th>11</th>\n",
       "      <td>10642</td>\n",
       "      <td>9.878127e+05</td>\n",
       "      <td>22361.812772</td>\n",
       "    </tr>\n",
       "    <tr>\n",
       "      <th>12</th>\n",
       "      <td>29470</td>\n",
       "      <td>5.328807e+06</td>\n",
       "      <td>57505.206440</td>\n",
       "    </tr>\n",
       "    <tr>\n",
       "      <th>13</th>\n",
       "      <td>16565</td>\n",
       "      <td>2.921175e+06</td>\n",
       "      <td>7927.023724</td>\n",
       "    </tr>\n",
       "    <tr>\n",
       "      <th>14</th>\n",
       "      <td>18068</td>\n",
       "      <td>3.557786e+06</td>\n",
       "      <td>32317.463724</td>\n",
       "    </tr>\n",
       "    <tr>\n",
       "      <th>15</th>\n",
       "      <td>12534</td>\n",
       "      <td>2.177430e+06</td>\n",
       "      <td>43245.255314</td>\n",
       "    </tr>\n",
       "    <tr>\n",
       "      <th>16</th>\n",
       "      <td>14748</td>\n",
       "      <td>2.856190e+06</td>\n",
       "      <td>71794.886031</td>\n",
       "    </tr>\n",
       "    <tr>\n",
       "      <th>17</th>\n",
       "      <td>19842</td>\n",
       "      <td>4.633835e+06</td>\n",
       "      <td>9523.296358</td>\n",
       "    </tr>\n",
       "    <tr>\n",
       "      <th>18</th>\n",
       "      <td>6454</td>\n",
       "      <td>1.072971e+06</td>\n",
       "      <td>55529.025521</td>\n",
       "    </tr>\n",
       "    <tr>\n",
       "      <th>19</th>\n",
       "      <td>10996</td>\n",
       "      <td>2.153401e+06</td>\n",
       "      <td>21289.741903</td>\n",
       "    </tr>\n",
       "    <tr>\n",
       "      <th>20</th>\n",
       "      <td>20414</td>\n",
       "      <td>3.341420e+06</td>\n",
       "      <td>27757.706212</td>\n",
       "    </tr>\n",
       "    <tr>\n",
       "      <th>21</th>\n",
       "      <td>6441</td>\n",
       "      <td>1.405621e+06</td>\n",
       "      <td>39580.880637</td>\n",
       "    </tr>\n",
       "    <tr>\n",
       "      <th>22</th>\n",
       "      <td>28463</td>\n",
       "      <td>5.726566e+06</td>\n",
       "      <td>40398.350851</td>\n",
       "    </tr>\n",
       "    <tr>\n",
       "      <th>23</th>\n",
       "      <td>25366</td>\n",
       "      <td>5.247760e+06</td>\n",
       "      <td>17715.016228</td>\n",
       "    </tr>\n",
       "    <tr>\n",
       "      <th>24</th>\n",
       "      <td>13273</td>\n",
       "      <td>2.428669e+06</td>\n",
       "      <td>85997.265458</td>\n",
       "    </tr>\n",
       "    <tr>\n",
       "      <th>25</th>\n",
       "      <td>23300</td>\n",
       "      <td>4.580246e+06</td>\n",
       "      <td>47090.079203</td>\n",
       "    </tr>\n",
       "    <tr>\n",
       "      <th>26</th>\n",
       "      <td>11191</td>\n",
       "      <td>2.596911e+06</td>\n",
       "      <td>119332.088384</td>\n",
       "    </tr>\n",
       "    <tr>\n",
       "      <th>27</th>\n",
       "      <td>10914</td>\n",
       "      <td>2.229319e+06</td>\n",
       "      <td>62568.981122</td>\n",
       "    </tr>\n",
       "    <tr>\n",
       "      <th>28</th>\n",
       "      <td>20173</td>\n",
       "      <td>3.028470e+06</td>\n",
       "      <td>41090.738130</td>\n",
       "    </tr>\n",
       "    <tr>\n",
       "      <th>29</th>\n",
       "      <td>27223</td>\n",
       "      <td>4.775607e+06</td>\n",
       "      <td>41957.967692</td>\n",
       "    </tr>\n",
       "    <tr>\n",
       "      <th>30</th>\n",
       "      <td>22924</td>\n",
       "      <td>3.434111e+06</td>\n",
       "      <td>12533.601830</td>\n",
       "    </tr>\n",
       "    <tr>\n",
       "      <th>31</th>\n",
       "      <td>26510</td>\n",
       "      <td>4.661934e+06</td>\n",
       "      <td>52555.765446</td>\n",
       "    </tr>\n",
       "    <tr>\n",
       "      <th>32</th>\n",
       "      <td>20428</td>\n",
       "      <td>3.731671e+06</td>\n",
       "      <td>28201.676790</td>\n",
       "    </tr>\n",
       "    <tr>\n",
       "      <th>33</th>\n",
       "      <td>15257</td>\n",
       "      <td>3.000980e+06</td>\n",
       "      <td>14173.401788</td>\n",
       "    </tr>\n",
       "    <tr>\n",
       "      <th>34</th>\n",
       "      <td>8290</td>\n",
       "      <td>1.518121e+06</td>\n",
       "      <td>29452.682249</td>\n",
       "    </tr>\n",
       "    <tr>\n",
       "      <th>35</th>\n",
       "      <td>19151</td>\n",
       "      <td>3.425726e+06</td>\n",
       "      <td>34913.052995</td>\n",
       "    </tr>\n",
       "  </tbody>\n",
       "</table>\n",
       "</div>"
      ],
      "text/plain": [
       "    duration      distance   var_pressure\n",
       "0      23583  3.974773e+06  149331.562276\n",
       "1      16821  3.383938e+06   56591.264301\n",
       "2      16775  2.685503e+06   24155.562562\n",
       "3      15370  2.440930e+06  106606.308141\n",
       "4      42334  8.271851e+06   49500.125252\n",
       "5      13280  2.488000e+06   44829.224041\n",
       "6      51003  8.849355e+06   18647.991439\n",
       "7      12146  2.380603e+06   20648.779237\n",
       "8       7208  1.325594e+06  120696.726344\n",
       "9      11680  2.043557e+06   25663.994853\n",
       "10     26615  4.812657e+06  107570.648705\n",
       "11     10642  9.878127e+05   22361.812772\n",
       "12     29470  5.328807e+06   57505.206440\n",
       "13     16565  2.921175e+06    7927.023724\n",
       "14     18068  3.557786e+06   32317.463724\n",
       "15     12534  2.177430e+06   43245.255314\n",
       "16     14748  2.856190e+06   71794.886031\n",
       "17     19842  4.633835e+06    9523.296358\n",
       "18      6454  1.072971e+06   55529.025521\n",
       "19     10996  2.153401e+06   21289.741903\n",
       "20     20414  3.341420e+06   27757.706212\n",
       "21      6441  1.405621e+06   39580.880637\n",
       "22     28463  5.726566e+06   40398.350851\n",
       "23     25366  5.247760e+06   17715.016228\n",
       "24     13273  2.428669e+06   85997.265458\n",
       "25     23300  4.580246e+06   47090.079203\n",
       "26     11191  2.596911e+06  119332.088384\n",
       "27     10914  2.229319e+06   62568.981122\n",
       "28     20173  3.028470e+06   41090.738130\n",
       "29     27223  4.775607e+06   41957.967692\n",
       "30     22924  3.434111e+06   12533.601830\n",
       "31     26510  4.661934e+06   52555.765446\n",
       "32     20428  3.731671e+06   28201.676790\n",
       "33     15257  3.000980e+06   14173.401788\n",
       "34      8290  1.518121e+06   29452.682249\n",
       "35     19151  3.425726e+06   34913.052995"
      ]
     },
     "execution_count": 22,
     "metadata": {},
     "output_type": "execute_result"
    }
   ],
   "source": [
    "c_result = pd.DataFrame()\n",
    "c_result['duration'] = clist_duration\n",
    "c_result['distance'] = clist_dist\n",
    "c_result['var_pressure'] = clist_var\n",
    "\n",
    "c_result"
   ]
  },
  {
   "cell_type": "code",
   "execution_count": 23,
   "metadata": {},
   "outputs": [
    {
     "data": {
      "text/plain": [
       "duration        2.521233e+04\n",
       "distance        5.742220e+06\n",
       "var_pressure    5.343665e+04\n",
       "dtype: float64"
      ]
     },
     "execution_count": 23,
     "metadata": {},
     "output_type": "execute_result"
    }
   ],
   "source": [
    "#p_result : 파킨슨, c_result : controls(정상인)\n",
    "np.mean(p_result)"
   ]
  },
  {
   "cell_type": "code",
   "execution_count": 24,
   "metadata": {},
   "outputs": [
    {
     "data": {
      "text/plain": [
       "duration        1.876256e+04\n",
       "distance        3.429981e+06\n",
       "var_pressure    4.836264e+04\n",
       "dtype: float64"
      ]
     },
     "execution_count": 24,
     "metadata": {},
     "output_type": "execute_result"
    }
   ],
   "source": [
    "np.mean(c_result)"
   ]
  },
  {
   "cell_type": "code",
   "execution_count": 25,
   "metadata": {},
   "outputs": [
    {
     "data": {
      "text/plain": [
       "duration        4.938094e+08\n",
       "distance        6.715967e+13\n",
       "var_pressure    2.451646e+09\n",
       "dtype: float64"
      ]
     },
     "execution_count": 25,
     "metadata": {},
     "output_type": "execute_result"
    }
   ],
   "source": [
    "np.var(p_result)"
   ]
  },
  {
   "cell_type": "code",
   "execution_count": 26,
   "metadata": {},
   "outputs": [
    {
     "data": {
      "text/plain": [
       "duration        8.744989e+07\n",
       "distance        3.051080e+12\n",
       "var_pressure    1.176351e+09\n",
       "dtype: float64"
      ]
     },
     "execution_count": 26,
     "metadata": {},
     "output_type": "execute_result"
    }
   ],
   "source": [
    "np.var(c_result)"
   ]
  },
  {
   "cell_type": "code",
   "execution_count": 30,
   "metadata": {},
   "outputs": [],
   "source": [
    "import matplotlib.pyplot as plt"
   ]
  },
  {
   "cell_type": "code",
   "execution_count": 31,
   "metadata": {},
   "outputs": [
    {
     "data": {
      "text/plain": [
       "(array([15., 12.,  4.,  2.,  0.,  1.,  1.,  0.,  0.,  1.]),\n",
       " array([  4141. ,  16036.6,  27932.2,  39827.8,  51723.4,  63619. ,\n",
       "         75514.6,  87410.2,  99305.8, 111201.4, 123097. ]),\n",
       " <a list of 10 Patch objects>)"
      ]
     },
     "execution_count": 31,
     "metadata": {},
     "output_type": "execute_result"
    },
    {
     "data": {
      "image/png": "[encoded data removed]",
      "text/plain": [
       "<Figure size 432x288 with 1 Axes>"
      ]
     },
     "metadata": {
      "needs_background": "light"
     },
     "output_type": "display_data"
    }
   ],
   "source": [
    "plt.hist(p_result['duration'])"
   ]
  },
  {
   "cell_type": "code",
   "execution_count": 32,
   "metadata": {},
   "outputs": [
    {
     "data": {
      "text/plain": [
       "(array([ 5., 10.,  6.,  7.,  5.,  1.,  0.,  0.,  1.,  1.]),\n",
       " array([ 6441. , 10897.2, 15353.4, 19809.6, 24265.8, 28722. , 33178.2,\n",
       "        37634.4, 42090.6, 46546.8, 51003. ]),\n",
       " <a list of 10 Patch objects>)"
      ]
     },
     "execution_count": 32,
     "metadata": {},
     "output_type": "execute_result"
    },
    {
     "data": {
      "image/png": "[encoded data removed]",
      "text/plain": [
       "<Figure size 432x288 with 1 Axes>"
      ]
     },
     "metadata": {
      "needs_background": "light"
     },
     "output_type": "display_data"
    }
   ],
   "source": [
    "plt.hist(c_result['duration'])"
   ]
  },
  {
   "cell_type": "code",
   "execution_count": 56,
   "metadata": {},
   "outputs": [
    {
     "data": {
      "image/png": "[encoded data removed]",
      "text/plain": [
       "<Figure size 432x288 with 1 Axes>"
      ]
     },
     "metadata": {
      "needs_background": "light"
     },
     "output_type": "display_data"
    }
   ],
   "source": [
    "plt.hist(p_result['duration'], color='red')\n",
    "plt.hist(c_result['duration'])\n",
    "plt.xlabel('duration')\n",
    "plt.ylabel('#of patients')\n",
    "plt.show()"
   ]
  },
  {
   "cell_type": "code",
   "execution_count": 55,
   "metadata": {},
   "outputs": [
    {
     "data": {
      "image/png": "[encoded data removed]",
      "text/plain": [
       "<Figure size 432x288 with 1 Axes>"
      ]
     },
     "metadata": {
      "needs_background": "light"
     },
     "output_type": "display_data"
    }
   ],
   "source": [
    "plt.hist(p_result['distance'], color='red')\n",
    "plt.hist(c_result['distance'])\n",
    "plt.xlabel('distance')\n",
    "plt.ylabel('#of patients')\n",
    "plt.show()"
   ]
  },
  {
   "cell_type": "code",
   "execution_count": 57,
   "metadata": {},
   "outputs": [
    {
     "data": {
      "image/png": "[encoded data removed]",
      "text/plain": [
       "<Figure size 432x288 with 1 Axes>"
      ]
     },
     "metadata": {
      "needs_background": "light"
     },
     "output_type": "display_data"
    }
   ],
   "source": [
    "plt.hist(p_result['var_pressure'], color='red')\n",
    "plt.hist(c_result['var_pressure'], alpha = 0.5)\n",
    "plt.xlabel('var_pressure')\n",
    "plt.ylabel('#of patients')\n",
    "plt.show()"
   ]
  },
  {
   "cell_type": "code",
   "execution_count": null,
   "metadata": {},
   "outputs": [],
   "source": []
  },
  {
   "cell_type": "code",
   "execution_count": null,
   "metadata": {},
   "outputs": [],
   "source": []
  },
  {
   "cell_type": "code",
   "execution_count": 48,
   "metadata": {},
   "outputs": [
    {
     "data": {
      "text/plain": [
       "Text(0, 0.5, 'distance')"
      ]
     },
     "execution_count": 48,
     "metadata": {},
     "output_type": "execute_result"
    },
    {
     "data": {
      "image/png": "[encoded data removed]",
      "text/plain": [
       "<Figure size 432x288 with 1 Axes>"
      ]
     },
     "metadata": {
      "needs_background": "light"
     },
     "output_type": "display_data"
    }
   ],
   "source": [
    "plt.scatter(p_result['duration'], p_result['distance'],color = 'red', marker = 'x')\n",
    "plt.xlabel('duration')\n",
    "plt.ylabel('distance')"
   ]
  },
  {
   "cell_type": "code",
   "execution_count": 47,
   "metadata": {
    "scrolled": true
   },
   "outputs": [
    {
     "data": {
      "text/plain": [
       "Text(0, 0.5, 'c_distance')"
      ]
     },
     "execution_count": 47,
     "metadata": {},
     "output_type": "execute_result"
    },
    {
     "data": {
      "image/png": "[encoded data removed]",
      "text/plain": [
       "<Figure size 432x288 with 1 Axes>"
      ]
     },
     "metadata": {
      "needs_background": "light"
     },
     "output_type": "display_data"
    }
   ],
   "source": [
    "plt.scatter(c_result['duration'], c_result['distance'])\n",
    "plt.xlabel('c_duration')\n",
    "plt.ylabel('c_distance')"
   ]
  },
  {
   "cell_type": "code",
   "execution_count": 45,
   "metadata": {},
   "outputs": [
    {
     "name": "stderr",
     "output_type": "stream",
     "text": [
      "No handles with labels found to put in legend.\n"
     ]
    },
    {
     "data": {
      "image/png": "[encoded data removed]",
      "text/plain": [
       "<Figure size 432x288 with 1 Axes>"
      ]
     },
     "metadata": {
      "needs_background": "light"
     },
     "output_type": "display_data"
    }
   ],
   "source": [
    "plt.scatter(p_result['duration'], p_result['distance'], color = 'red', marker = 'x')\n",
    "plt.scatter(c_result['duration'], c_result['distance'], color = 'blue')\n",
    "\n",
    "plt.xlim([0, 55000])      # X축의 범위: [xmin, xmax]\n",
    "plt.ylim([0, 10000000])     # Y축의 범위: [ymin, ymax]\n",
    "\n",
    "plt.legend()\n",
    "plt.show()"
   ]
  },
  {
   "cell_type": "code",
   "execution_count": null,
   "metadata": {},
   "outputs": [],
   "source": []
  }
 ],
 "metadata": {
  "kernelspec": {
   "display_name": "Python 3",
   "language": "python",
   "name": "python3"
  },
  "language_info": {
   "codemirror_mode": {
    "name": "ipython",
    "version": 3
   },
   "file_extension": ".py",
   "mimetype": "text/x-python",
   "name": "python",
   "nbconvert_exporter": "python",
   "pygments_lexer": "ipython3",
   "version": "3.7.6"
  }
 },
 "nbformat": 4,
 "nbformat_minor": 4
}
